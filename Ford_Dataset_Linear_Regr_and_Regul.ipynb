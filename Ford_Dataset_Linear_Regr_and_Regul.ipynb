{
  "nbformat": 4,
  "nbformat_minor": 0,
  "metadata": {
    "colab": {
      "name": "Ford Dataset - Linear Regr and Regul.ipynb",
      "provenance": [],
      "mount_file_id": "1p33kNgRTCuu9iBgyA0gZFF3GgY0hKJlL",
      "authorship_tag": "ABX9TyP7ftazSmfTsiq9jT2NWFtf"
    },
    "kernelspec": {
      "name": "python3",
      "display_name": "Python 3"
    },
    "language_info": {
      "name": "python"
    }
  },
  "cells": [
    {
      "cell_type": "markdown",
      "metadata": {
        "id": "SMs_C5FVyFh7"
      },
      "source": [
        "This notebbok contents is:\n",
        "\n",
        "1. Problem\n",
        "2. Train test split\n",
        "3. Simple EDA\n",
        "  * Descritive Statistics and data cleaning\n",
        "  * numerical features\n",
        "  * Categorical Features\n",
        "4. Model variations\n",
        " * Apply One-hot encoding\n",
        " * Apply Square root transformation\n",
        " * Apply Standard scaling\n",
        " * Add Polynomial Features\n",
        "\n",
        "5. Cross-validation and Regularization\n",
        "\n",
        " * Linear Regression\n",
        " * Lasso Regression (L1)\n",
        " * Ridge Regression(L2)\n",
        " * Elastic Net Regression (L1 + L2)\n",
        " * Compare the metrics\n",
        "\n",
        "6. Predict on the test set\n",
        " * Scatter plots of four models\n",
        " * Feature Importance\n",
        "\n",
        "7. Conclusion\n"
      ]
    },
    {
      "cell_type": "markdown",
      "metadata": {
        "id": "pva1wGLNxuW9"
      },
      "source": [
        "# 1. Problem"
      ]
    },
    {
      "cell_type": "markdown",
      "metadata": {
        "id": "mDHVz4CixzYz"
      },
      "source": [
        "The main objective of this analysis is to predict price(£) of uses ford cars using Linear Regressions."
      ]
    },
    {
      "cell_type": "markdown",
      "metadata": {
        "id": "z-g2IHoQzfQ3"
      },
      "source": [
        "# 2. Train test split"
      ]
    },
    {
      "cell_type": "code",
      "metadata": {
        "id": "MUg9xUSXzkd1"
      },
      "source": [
        "import pandas as pd\n",
        "import numpy as np\n",
        "import seaborn as sns\n",
        "import matplotlib.pyplot as plt\n",
        "import warnings\n",
        "\n",
        "sns.set()\n",
        "%matplotlib inline\n",
        "\n",
        "pd.options.mode.chained_assignment = None\n",
        "warnings.filterwarnings(\"ignore\")"
      ],
      "execution_count": 1,
      "outputs": []
    },
    {
      "cell_type": "code",
      "metadata": {
        "colab": {
          "base_uri": "https://localhost:8080/",
          "height": 424
        },
        "id": "FDcki2eU1O35",
        "outputId": "e6c47824-285c-4c91-b558-303f56d3c8b7"
      },
      "source": [
        "df = pd.read_csv('/content/drive/MyDrive/Data Science/portifolio/ford_regularization/ford.csv')\n",
        "df"
      ],
      "execution_count": 2,
      "outputs": [
        {
          "output_type": "execute_result",
          "data": {
            "text/html": [
              "<div>\n",
              "<style scoped>\n",
              "    .dataframe tbody tr th:only-of-type {\n",
              "        vertical-align: middle;\n",
              "    }\n",
              "\n",
              "    .dataframe tbody tr th {\n",
              "        vertical-align: top;\n",
              "    }\n",
              "\n",
              "    .dataframe thead th {\n",
              "        text-align: right;\n",
              "    }\n",
              "</style>\n",
              "<table border=\"1\" class=\"dataframe\">\n",
              "  <thead>\n",
              "    <tr style=\"text-align: right;\">\n",
              "      <th></th>\n",
              "      <th>model</th>\n",
              "      <th>year</th>\n",
              "      <th>price</th>\n",
              "      <th>transmission</th>\n",
              "      <th>mileage</th>\n",
              "      <th>fuelType</th>\n",
              "      <th>tax</th>\n",
              "      <th>mpg</th>\n",
              "      <th>engineSize</th>\n",
              "    </tr>\n",
              "  </thead>\n",
              "  <tbody>\n",
              "    <tr>\n",
              "      <th>0</th>\n",
              "      <td>Fiesta</td>\n",
              "      <td>2017</td>\n",
              "      <td>12000</td>\n",
              "      <td>Automatic</td>\n",
              "      <td>15944</td>\n",
              "      <td>Petrol</td>\n",
              "      <td>150</td>\n",
              "      <td>57.7</td>\n",
              "      <td>1.0</td>\n",
              "    </tr>\n",
              "    <tr>\n",
              "      <th>1</th>\n",
              "      <td>Focus</td>\n",
              "      <td>2018</td>\n",
              "      <td>14000</td>\n",
              "      <td>Manual</td>\n",
              "      <td>9083</td>\n",
              "      <td>Petrol</td>\n",
              "      <td>150</td>\n",
              "      <td>57.7</td>\n",
              "      <td>1.0</td>\n",
              "    </tr>\n",
              "    <tr>\n",
              "      <th>2</th>\n",
              "      <td>Focus</td>\n",
              "      <td>2017</td>\n",
              "      <td>13000</td>\n",
              "      <td>Manual</td>\n",
              "      <td>12456</td>\n",
              "      <td>Petrol</td>\n",
              "      <td>150</td>\n",
              "      <td>57.7</td>\n",
              "      <td>1.0</td>\n",
              "    </tr>\n",
              "    <tr>\n",
              "      <th>3</th>\n",
              "      <td>Fiesta</td>\n",
              "      <td>2019</td>\n",
              "      <td>17500</td>\n",
              "      <td>Manual</td>\n",
              "      <td>10460</td>\n",
              "      <td>Petrol</td>\n",
              "      <td>145</td>\n",
              "      <td>40.3</td>\n",
              "      <td>1.5</td>\n",
              "    </tr>\n",
              "    <tr>\n",
              "      <th>4</th>\n",
              "      <td>Fiesta</td>\n",
              "      <td>2019</td>\n",
              "      <td>16500</td>\n",
              "      <td>Automatic</td>\n",
              "      <td>1482</td>\n",
              "      <td>Petrol</td>\n",
              "      <td>145</td>\n",
              "      <td>48.7</td>\n",
              "      <td>1.0</td>\n",
              "    </tr>\n",
              "    <tr>\n",
              "      <th>...</th>\n",
              "      <td>...</td>\n",
              "      <td>...</td>\n",
              "      <td>...</td>\n",
              "      <td>...</td>\n",
              "      <td>...</td>\n",
              "      <td>...</td>\n",
              "      <td>...</td>\n",
              "      <td>...</td>\n",
              "      <td>...</td>\n",
              "    </tr>\n",
              "    <tr>\n",
              "      <th>17960</th>\n",
              "      <td>Fiesta</td>\n",
              "      <td>2016</td>\n",
              "      <td>7999</td>\n",
              "      <td>Manual</td>\n",
              "      <td>31348</td>\n",
              "      <td>Petrol</td>\n",
              "      <td>125</td>\n",
              "      <td>54.3</td>\n",
              "      <td>1.2</td>\n",
              "    </tr>\n",
              "    <tr>\n",
              "      <th>17961</th>\n",
              "      <td>B-MAX</td>\n",
              "      <td>2017</td>\n",
              "      <td>8999</td>\n",
              "      <td>Manual</td>\n",
              "      <td>16700</td>\n",
              "      <td>Petrol</td>\n",
              "      <td>150</td>\n",
              "      <td>47.1</td>\n",
              "      <td>1.4</td>\n",
              "    </tr>\n",
              "    <tr>\n",
              "      <th>17962</th>\n",
              "      <td>B-MAX</td>\n",
              "      <td>2014</td>\n",
              "      <td>7499</td>\n",
              "      <td>Manual</td>\n",
              "      <td>40700</td>\n",
              "      <td>Petrol</td>\n",
              "      <td>30</td>\n",
              "      <td>57.7</td>\n",
              "      <td>1.0</td>\n",
              "    </tr>\n",
              "    <tr>\n",
              "      <th>17963</th>\n",
              "      <td>Focus</td>\n",
              "      <td>2015</td>\n",
              "      <td>9999</td>\n",
              "      <td>Manual</td>\n",
              "      <td>7010</td>\n",
              "      <td>Diesel</td>\n",
              "      <td>20</td>\n",
              "      <td>67.3</td>\n",
              "      <td>1.6</td>\n",
              "    </tr>\n",
              "    <tr>\n",
              "      <th>17964</th>\n",
              "      <td>KA</td>\n",
              "      <td>2018</td>\n",
              "      <td>8299</td>\n",
              "      <td>Manual</td>\n",
              "      <td>5007</td>\n",
              "      <td>Petrol</td>\n",
              "      <td>145</td>\n",
              "      <td>57.7</td>\n",
              "      <td>1.2</td>\n",
              "    </tr>\n",
              "  </tbody>\n",
              "</table>\n",
              "<p>17965 rows × 9 columns</p>\n",
              "</div>"
            ],
            "text/plain": [
              "         model  year  price transmission  ...  fuelType  tax   mpg  engineSize\n",
              "0       Fiesta  2017  12000    Automatic  ...    Petrol  150  57.7         1.0\n",
              "1        Focus  2018  14000       Manual  ...    Petrol  150  57.7         1.0\n",
              "2        Focus  2017  13000       Manual  ...    Petrol  150  57.7         1.0\n",
              "3       Fiesta  2019  17500       Manual  ...    Petrol  145  40.3         1.5\n",
              "4       Fiesta  2019  16500    Automatic  ...    Petrol  145  48.7         1.0\n",
              "...        ...   ...    ...          ...  ...       ...  ...   ...         ...\n",
              "17960   Fiesta  2016   7999       Manual  ...    Petrol  125  54.3         1.2\n",
              "17961    B-MAX  2017   8999       Manual  ...    Petrol  150  47.1         1.4\n",
              "17962    B-MAX  2014   7499       Manual  ...    Petrol   30  57.7         1.0\n",
              "17963    Focus  2015   9999       Manual  ...    Diesel   20  67.3         1.6\n",
              "17964       KA  2018   8299       Manual  ...    Petrol  145  57.7         1.2\n",
              "\n",
              "[17965 rows x 9 columns]"
            ]
          },
          "metadata": {},
          "execution_count": 2
        }
      ]
    },
    {
      "cell_type": "code",
      "metadata": {
        "colab": {
          "base_uri": "https://localhost:8080/"
        },
        "id": "CnlEOEq23Oji",
        "outputId": "5ce42611-1769-4b8a-a8a0-e03a569a5824"
      },
      "source": [
        "df.info()"
      ],
      "execution_count": 3,
      "outputs": [
        {
          "output_type": "stream",
          "name": "stdout",
          "text": [
            "<class 'pandas.core.frame.DataFrame'>\n",
            "RangeIndex: 17965 entries, 0 to 17964\n",
            "Data columns (total 9 columns):\n",
            " #   Column        Non-Null Count  Dtype  \n",
            "---  ------        --------------  -----  \n",
            " 0   model         17965 non-null  object \n",
            " 1   year          17965 non-null  int64  \n",
            " 2   price         17965 non-null  int64  \n",
            " 3   transmission  17965 non-null  object \n",
            " 4   mileage       17965 non-null  int64  \n",
            " 5   fuelType      17965 non-null  object \n",
            " 6   tax           17965 non-null  int64  \n",
            " 7   mpg           17965 non-null  float64\n",
            " 8   engineSize    17965 non-null  float64\n",
            "dtypes: float64(2), int64(4), object(3)\n",
            "memory usage: 1.2+ MB\n"
          ]
        }
      ]
    },
    {
      "cell_type": "code",
      "metadata": {
        "colab": {
          "base_uri": "https://localhost:8080/"
        },
        "id": "QWrSDqR63UOe",
        "outputId": "5b5bf051-c704-461c-e87d-c171d641493a"
      },
      "source": [
        "df.shape"
      ],
      "execution_count": 56,
      "outputs": [
        {
          "output_type": "execute_result",
          "data": {
            "text/plain": [
              "(17965, 9)"
            ]
          },
          "metadata": {},
          "execution_count": 56
        }
      ]
    },
    {
      "cell_type": "code",
      "metadata": {
        "colab": {
          "base_uri": "https://localhost:8080/",
          "height": 424
        },
        "id": "i_x4y6UH3iaX",
        "outputId": "00fba9d2-75a7-4d7b-e02a-39fd7257861e"
      },
      "source": [
        "#check duplicated rows\n",
        "df[df.duplicated()]"
      ],
      "execution_count": 4,
      "outputs": [
        {
          "output_type": "execute_result",
          "data": {
            "text/html": [
              "<div>\n",
              "<style scoped>\n",
              "    .dataframe tbody tr th:only-of-type {\n",
              "        vertical-align: middle;\n",
              "    }\n",
              "\n",
              "    .dataframe tbody tr th {\n",
              "        vertical-align: top;\n",
              "    }\n",
              "\n",
              "    .dataframe thead th {\n",
              "        text-align: right;\n",
              "    }\n",
              "</style>\n",
              "<table border=\"1\" class=\"dataframe\">\n",
              "  <thead>\n",
              "    <tr style=\"text-align: right;\">\n",
              "      <th></th>\n",
              "      <th>model</th>\n",
              "      <th>year</th>\n",
              "      <th>price</th>\n",
              "      <th>transmission</th>\n",
              "      <th>mileage</th>\n",
              "      <th>fuelType</th>\n",
              "      <th>tax</th>\n",
              "      <th>mpg</th>\n",
              "      <th>engineSize</th>\n",
              "    </tr>\n",
              "  </thead>\n",
              "  <tbody>\n",
              "    <tr>\n",
              "      <th>159</th>\n",
              "      <td>Focus</td>\n",
              "      <td>2016</td>\n",
              "      <td>10995</td>\n",
              "      <td>Manual</td>\n",
              "      <td>30923</td>\n",
              "      <td>Diesel</td>\n",
              "      <td>0</td>\n",
              "      <td>74.3</td>\n",
              "      <td>1.5</td>\n",
              "    </tr>\n",
              "    <tr>\n",
              "      <th>312</th>\n",
              "      <td>Focus</td>\n",
              "      <td>2019</td>\n",
              "      <td>14998</td>\n",
              "      <td>Manual</td>\n",
              "      <td>7000</td>\n",
              "      <td>Petrol</td>\n",
              "      <td>145</td>\n",
              "      <td>58.9</td>\n",
              "      <td>1.0</td>\n",
              "    </tr>\n",
              "    <tr>\n",
              "      <th>349</th>\n",
              "      <td>Focus</td>\n",
              "      <td>2019</td>\n",
              "      <td>14998</td>\n",
              "      <td>Manual</td>\n",
              "      <td>7000</td>\n",
              "      <td>Petrol</td>\n",
              "      <td>145</td>\n",
              "      <td>58.9</td>\n",
              "      <td>1.0</td>\n",
              "    </tr>\n",
              "    <tr>\n",
              "      <th>510</th>\n",
              "      <td>EcoSport</td>\n",
              "      <td>2019</td>\n",
              "      <td>15489</td>\n",
              "      <td>Manual</td>\n",
              "      <td>5636</td>\n",
              "      <td>Diesel</td>\n",
              "      <td>145</td>\n",
              "      <td>68.9</td>\n",
              "      <td>1.5</td>\n",
              "    </tr>\n",
              "    <tr>\n",
              "      <th>512</th>\n",
              "      <td>Grand Tourneo Connect</td>\n",
              "      <td>2019</td>\n",
              "      <td>19999</td>\n",
              "      <td>Manual</td>\n",
              "      <td>3500</td>\n",
              "      <td>Diesel</td>\n",
              "      <td>145</td>\n",
              "      <td>61.4</td>\n",
              "      <td>1.5</td>\n",
              "    </tr>\n",
              "    <tr>\n",
              "      <th>...</th>\n",
              "      <td>...</td>\n",
              "      <td>...</td>\n",
              "      <td>...</td>\n",
              "      <td>...</td>\n",
              "      <td>...</td>\n",
              "      <td>...</td>\n",
              "      <td>...</td>\n",
              "      <td>...</td>\n",
              "      <td>...</td>\n",
              "    </tr>\n",
              "    <tr>\n",
              "      <th>14556</th>\n",
              "      <td>Mondeo</td>\n",
              "      <td>2015</td>\n",
              "      <td>6793</td>\n",
              "      <td>Manual</td>\n",
              "      <td>138000</td>\n",
              "      <td>Diesel</td>\n",
              "      <td>20</td>\n",
              "      <td>68.9</td>\n",
              "      <td>2.0</td>\n",
              "    </tr>\n",
              "    <tr>\n",
              "      <th>15121</th>\n",
              "      <td>Kuga</td>\n",
              "      <td>2017</td>\n",
              "      <td>14999</td>\n",
              "      <td>Manual</td>\n",
              "      <td>24877</td>\n",
              "      <td>Diesel</td>\n",
              "      <td>30</td>\n",
              "      <td>64.2</td>\n",
              "      <td>1.5</td>\n",
              "    </tr>\n",
              "    <tr>\n",
              "      <th>15127</th>\n",
              "      <td>EcoSport</td>\n",
              "      <td>2019</td>\n",
              "      <td>16799</td>\n",
              "      <td>Automatic</td>\n",
              "      <td>433</td>\n",
              "      <td>Petrol</td>\n",
              "      <td>150</td>\n",
              "      <td>45.6</td>\n",
              "      <td>1.0</td>\n",
              "    </tr>\n",
              "    <tr>\n",
              "      <th>15685</th>\n",
              "      <td>KA</td>\n",
              "      <td>2008</td>\n",
              "      <td>1795</td>\n",
              "      <td>Manual</td>\n",
              "      <td>63000</td>\n",
              "      <td>Petrol</td>\n",
              "      <td>160</td>\n",
              "      <td>45.6</td>\n",
              "      <td>1.3</td>\n",
              "    </tr>\n",
              "    <tr>\n",
              "      <th>17608</th>\n",
              "      <td>B-MAX</td>\n",
              "      <td>2017</td>\n",
              "      <td>11495</td>\n",
              "      <td>Automatic</td>\n",
              "      <td>5000</td>\n",
              "      <td>Petrol</td>\n",
              "      <td>145</td>\n",
              "      <td>44.1</td>\n",
              "      <td>1.6</td>\n",
              "    </tr>\n",
              "  </tbody>\n",
              "</table>\n",
              "<p>154 rows × 9 columns</p>\n",
              "</div>"
            ],
            "text/plain": [
              "                        model  year  price  ...  tax   mpg engineSize\n",
              "159                     Focus  2016  10995  ...    0  74.3        1.5\n",
              "312                     Focus  2019  14998  ...  145  58.9        1.0\n",
              "349                     Focus  2019  14998  ...  145  58.9        1.0\n",
              "510                  EcoSport  2019  15489  ...  145  68.9        1.5\n",
              "512     Grand Tourneo Connect  2019  19999  ...  145  61.4        1.5\n",
              "...                       ...   ...    ...  ...  ...   ...        ...\n",
              "14556                  Mondeo  2015   6793  ...   20  68.9        2.0\n",
              "15121                    Kuga  2017  14999  ...   30  64.2        1.5\n",
              "15127                EcoSport  2019  16799  ...  150  45.6        1.0\n",
              "15685                      KA  2008   1795  ...  160  45.6        1.3\n",
              "17608                   B-MAX  2017  11495  ...  145  44.1        1.6\n",
              "\n",
              "[154 rows x 9 columns]"
            ]
          },
          "metadata": {},
          "execution_count": 4
        }
      ]
    },
    {
      "cell_type": "code",
      "metadata": {
        "id": "-7XoqjGp59E1"
      },
      "source": [
        "df.drop_duplicates(keep='first', inplace=True)"
      ],
      "execution_count": 5,
      "outputs": []
    },
    {
      "cell_type": "code",
      "metadata": {
        "colab": {
          "base_uri": "https://localhost:8080/",
          "height": 49
        },
        "id": "ZC8vf3q96L2G",
        "outputId": "36824522-a3be-4263-cbc0-b9b53e773ccb"
      },
      "source": [
        "#check duplicated rows\n",
        "df[df.duplicated()]"
      ],
      "execution_count": 6,
      "outputs": [
        {
          "output_type": "execute_result",
          "data": {
            "text/html": [
              "<div>\n",
              "<style scoped>\n",
              "    .dataframe tbody tr th:only-of-type {\n",
              "        vertical-align: middle;\n",
              "    }\n",
              "\n",
              "    .dataframe tbody tr th {\n",
              "        vertical-align: top;\n",
              "    }\n",
              "\n",
              "    .dataframe thead th {\n",
              "        text-align: right;\n",
              "    }\n",
              "</style>\n",
              "<table border=\"1\" class=\"dataframe\">\n",
              "  <thead>\n",
              "    <tr style=\"text-align: right;\">\n",
              "      <th></th>\n",
              "      <th>model</th>\n",
              "      <th>year</th>\n",
              "      <th>price</th>\n",
              "      <th>transmission</th>\n",
              "      <th>mileage</th>\n",
              "      <th>fuelType</th>\n",
              "      <th>tax</th>\n",
              "      <th>mpg</th>\n",
              "      <th>engineSize</th>\n",
              "    </tr>\n",
              "  </thead>\n",
              "  <tbody>\n",
              "  </tbody>\n",
              "</table>\n",
              "</div>"
            ],
            "text/plain": [
              "Empty DataFrame\n",
              "Columns: [model, year, price, transmission, mileage, fuelType, tax, mpg, engineSize]\n",
              "Index: []"
            ]
          },
          "metadata": {},
          "execution_count": 6
        }
      ]
    },
    {
      "cell_type": "code",
      "metadata": {
        "id": "xKgTXUcC6U_C"
      },
      "source": [
        "df.reset_index(drop=True, inplace=True)"
      ],
      "execution_count": 7,
      "outputs": []
    },
    {
      "cell_type": "code",
      "metadata": {
        "colab": {
          "base_uri": "https://localhost:8080/"
        },
        "id": "LTysenfe6co0",
        "outputId": "ba0eb38a-6dde-4247-b61b-99ab647d0fe4"
      },
      "source": [
        "df.shape"
      ],
      "execution_count": 8,
      "outputs": [
        {
          "output_type": "execute_result",
          "data": {
            "text/plain": [
              "(17811, 9)"
            ]
          },
          "metadata": {},
          "execution_count": 8
        }
      ]
    },
    {
      "cell_type": "code",
      "metadata": {
        "colab": {
          "base_uri": "https://localhost:8080/"
        },
        "id": "UB6Vjq3Q6p_v",
        "outputId": "45af3a9f-8cbb-4c15-adb3-c37dd1114f21"
      },
      "source": [
        "#split the data\n",
        "\n",
        "from sklearn.model_selection import train_test_split\n",
        "\n",
        "train_val, test = train_test_split(df, test_size = 0.20, random_state= 0)\n",
        "print(f'Training and validation set size: {train_val.shape}')\n",
        "print(f'Test set size: {test.shape}')\n"
      ],
      "execution_count": 9,
      "outputs": [
        {
          "output_type": "stream",
          "name": "stdout",
          "text": [
            "Training and validation set size: (14248, 9)\n",
            "Test set size: (3563, 9)\n"
          ]
        }
      ]
    },
    {
      "cell_type": "code",
      "metadata": {
        "colab": {
          "base_uri": "https://localhost:8080/"
        },
        "id": "4HLDFenI9_YQ",
        "outputId": "e2f2f8ad-0a7b-4393-c5f2-d52b82cc867a"
      },
      "source": [
        "# Divide the train_val between train and val for cross-validation\n",
        "train, val = train_test_split(train_val, test_size= 0.25, random_state=0)\n",
        "\n",
        "print(f'Training set size: {train.shape}')\n",
        "print(f'Validation set size: {val.shape}')\n",
        "\n"
      ],
      "execution_count": 10,
      "outputs": [
        {
          "output_type": "stream",
          "name": "stdout",
          "text": [
            "Training set size: (10686, 9)\n",
            "Validation set size: (3562, 9)\n"
          ]
        }
      ]
    },
    {
      "cell_type": "markdown",
      "metadata": {
        "id": "t5JeWXEI-cYg"
      },
      "source": [
        "# 3. Simple EDA"
      ]
    },
    {
      "cell_type": "code",
      "metadata": {
        "colab": {
          "base_uri": "https://localhost:8080/",
          "height": 206
        },
        "id": "2olyUbWv-b_p",
        "outputId": "7176f518-d97a-4221-c39b-1cd974d88fdd"
      },
      "source": [
        "train.head()"
      ],
      "execution_count": 64,
      "outputs": [
        {
          "output_type": "execute_result",
          "data": {
            "text/html": [
              "<div>\n",
              "<style scoped>\n",
              "    .dataframe tbody tr th:only-of-type {\n",
              "        vertical-align: middle;\n",
              "    }\n",
              "\n",
              "    .dataframe tbody tr th {\n",
              "        vertical-align: top;\n",
              "    }\n",
              "\n",
              "    .dataframe thead th {\n",
              "        text-align: right;\n",
              "    }\n",
              "</style>\n",
              "<table border=\"1\" class=\"dataframe\">\n",
              "  <thead>\n",
              "    <tr style=\"text-align: right;\">\n",
              "      <th></th>\n",
              "      <th>model</th>\n",
              "      <th>year</th>\n",
              "      <th>price</th>\n",
              "      <th>transmission</th>\n",
              "      <th>mileage</th>\n",
              "      <th>fuelType</th>\n",
              "      <th>tax</th>\n",
              "      <th>mpg</th>\n",
              "      <th>engineSize</th>\n",
              "    </tr>\n",
              "  </thead>\n",
              "  <tbody>\n",
              "    <tr>\n",
              "      <th>14875</th>\n",
              "      <td>Kuga</td>\n",
              "      <td>2016</td>\n",
              "      <td>12000</td>\n",
              "      <td>Manual</td>\n",
              "      <td>21569</td>\n",
              "      <td>Diesel</td>\n",
              "      <td>125</td>\n",
              "      <td>60.1</td>\n",
              "      <td>2.0</td>\n",
              "    </tr>\n",
              "    <tr>\n",
              "      <th>10148</th>\n",
              "      <td>B-MAX</td>\n",
              "      <td>2016</td>\n",
              "      <td>9995</td>\n",
              "      <td>Semi-Auto</td>\n",
              "      <td>17900</td>\n",
              "      <td>Petrol</td>\n",
              "      <td>160</td>\n",
              "      <td>44.1</td>\n",
              "      <td>1.6</td>\n",
              "    </tr>\n",
              "    <tr>\n",
              "      <th>10329</th>\n",
              "      <td>Fiesta</td>\n",
              "      <td>2017</td>\n",
              "      <td>9280</td>\n",
              "      <td>Manual</td>\n",
              "      <td>28000</td>\n",
              "      <td>Petrol</td>\n",
              "      <td>145</td>\n",
              "      <td>62.8</td>\n",
              "      <td>1.0</td>\n",
              "    </tr>\n",
              "    <tr>\n",
              "      <th>5949</th>\n",
              "      <td>Fiesta</td>\n",
              "      <td>2019</td>\n",
              "      <td>16295</td>\n",
              "      <td>Semi-Auto</td>\n",
              "      <td>7698</td>\n",
              "      <td>Petrol</td>\n",
              "      <td>145</td>\n",
              "      <td>48.7</td>\n",
              "      <td>1.0</td>\n",
              "    </tr>\n",
              "    <tr>\n",
              "      <th>11779</th>\n",
              "      <td>Mustang</td>\n",
              "      <td>2017</td>\n",
              "      <td>48999</td>\n",
              "      <td>Automatic</td>\n",
              "      <td>7546</td>\n",
              "      <td>Petrol</td>\n",
              "      <td>145</td>\n",
              "      <td>23.5</td>\n",
              "      <td>5.0</td>\n",
              "    </tr>\n",
              "  </tbody>\n",
              "</table>\n",
              "</div>"
            ],
            "text/plain": [
              "          model  year  price transmission  ...  fuelType  tax   mpg  engineSize\n",
              "14875      Kuga  2016  12000       Manual  ...    Diesel  125  60.1         2.0\n",
              "10148     B-MAX  2016   9995    Semi-Auto  ...    Petrol  160  44.1         1.6\n",
              "10329    Fiesta  2017   9280       Manual  ...    Petrol  145  62.8         1.0\n",
              "5949     Fiesta  2019  16295    Semi-Auto  ...    Petrol  145  48.7         1.0\n",
              "11779   Mustang  2017  48999    Automatic  ...    Petrol  145  23.5         5.0\n",
              "\n",
              "[5 rows x 9 columns]"
            ]
          },
          "metadata": {},
          "execution_count": 64
        }
      ]
    },
    {
      "cell_type": "code",
      "metadata": {
        "colab": {
          "base_uri": "https://localhost:8080/"
        },
        "id": "F4oH5gtm-7sx",
        "outputId": "26fe2964-b072-4cb9-ba29-07be5bd9d218"
      },
      "source": [
        "train.info()"
      ],
      "execution_count": 65,
      "outputs": [
        {
          "output_type": "stream",
          "name": "stdout",
          "text": [
            "<class 'pandas.core.frame.DataFrame'>\n",
            "Int64Index: 10686 entries, 14875 to 2308\n",
            "Data columns (total 9 columns):\n",
            " #   Column        Non-Null Count  Dtype  \n",
            "---  ------        --------------  -----  \n",
            " 0   model         10686 non-null  object \n",
            " 1   year          10686 non-null  int64  \n",
            " 2   price         10686 non-null  int64  \n",
            " 3   transmission  10686 non-null  object \n",
            " 4   mileage       10686 non-null  int64  \n",
            " 5   fuelType      10686 non-null  object \n",
            " 6   tax           10686 non-null  int64  \n",
            " 7   mpg           10686 non-null  float64\n",
            " 8   engineSize    10686 non-null  float64\n",
            "dtypes: float64(2), int64(4), object(3)\n",
            "memory usage: 834.8+ KB\n"
          ]
        }
      ]
    },
    {
      "cell_type": "code",
      "metadata": {
        "colab": {
          "base_uri": "https://localhost:8080/",
          "height": 300
        },
        "id": "ZyfdCjwA--2X",
        "outputId": "d91c8b4c-5ec6-441c-d4ed-d3bb22cd7be1"
      },
      "source": [
        "train.describe()"
      ],
      "execution_count": 66,
      "outputs": [
        {
          "output_type": "execute_result",
          "data": {
            "text/html": [
              "<div>\n",
              "<style scoped>\n",
              "    .dataframe tbody tr th:only-of-type {\n",
              "        vertical-align: middle;\n",
              "    }\n",
              "\n",
              "    .dataframe tbody tr th {\n",
              "        vertical-align: top;\n",
              "    }\n",
              "\n",
              "    .dataframe thead th {\n",
              "        text-align: right;\n",
              "    }\n",
              "</style>\n",
              "<table border=\"1\" class=\"dataframe\">\n",
              "  <thead>\n",
              "    <tr style=\"text-align: right;\">\n",
              "      <th></th>\n",
              "      <th>year</th>\n",
              "      <th>price</th>\n",
              "      <th>mileage</th>\n",
              "      <th>tax</th>\n",
              "      <th>mpg</th>\n",
              "      <th>engineSize</th>\n",
              "    </tr>\n",
              "  </thead>\n",
              "  <tbody>\n",
              "    <tr>\n",
              "      <th>count</th>\n",
              "      <td>10686.000000</td>\n",
              "      <td>10686.000000</td>\n",
              "      <td>10686.000000</td>\n",
              "      <td>10686.000000</td>\n",
              "      <td>10686.000000</td>\n",
              "      <td>10686.000000</td>\n",
              "    </tr>\n",
              "    <tr>\n",
              "      <th>mean</th>\n",
              "      <td>2016.870017</td>\n",
              "      <td>12274.090118</td>\n",
              "      <td>23344.321168</td>\n",
              "      <td>113.443758</td>\n",
              "      <td>57.850926</td>\n",
              "      <td>1.353977</td>\n",
              "    </tr>\n",
              "    <tr>\n",
              "      <th>std</th>\n",
              "      <td>2.056717</td>\n",
              "      <td>4771.685341</td>\n",
              "      <td>19499.540207</td>\n",
              "      <td>61.416648</td>\n",
              "      <td>10.169595</td>\n",
              "      <td>0.434362</td>\n",
              "    </tr>\n",
              "    <tr>\n",
              "      <th>min</th>\n",
              "      <td>1996.000000</td>\n",
              "      <td>675.000000</td>\n",
              "      <td>1.000000</td>\n",
              "      <td>0.000000</td>\n",
              "      <td>20.800000</td>\n",
              "      <td>0.000000</td>\n",
              "    </tr>\n",
              "    <tr>\n",
              "      <th>25%</th>\n",
              "      <td>2016.000000</td>\n",
              "      <td>8999.000000</td>\n",
              "      <td>9975.000000</td>\n",
              "      <td>30.000000</td>\n",
              "      <td>52.300000</td>\n",
              "      <td>1.000000</td>\n",
              "    </tr>\n",
              "    <tr>\n",
              "      <th>50%</th>\n",
              "      <td>2017.000000</td>\n",
              "      <td>11291.000000</td>\n",
              "      <td>18229.500000</td>\n",
              "      <td>145.000000</td>\n",
              "      <td>58.900000</td>\n",
              "      <td>1.200000</td>\n",
              "    </tr>\n",
              "    <tr>\n",
              "      <th>75%</th>\n",
              "      <td>2018.000000</td>\n",
              "      <td>15295.000000</td>\n",
              "      <td>30970.000000</td>\n",
              "      <td>145.000000</td>\n",
              "      <td>65.700000</td>\n",
              "      <td>1.500000</td>\n",
              "    </tr>\n",
              "    <tr>\n",
              "      <th>max</th>\n",
              "      <td>2060.000000</td>\n",
              "      <td>49999.000000</td>\n",
              "      <td>174000.000000</td>\n",
              "      <td>580.000000</td>\n",
              "      <td>201.800000</td>\n",
              "      <td>5.000000</td>\n",
              "    </tr>\n",
              "  </tbody>\n",
              "</table>\n",
              "</div>"
            ],
            "text/plain": [
              "               year         price  ...           mpg    engineSize\n",
              "count  10686.000000  10686.000000  ...  10686.000000  10686.000000\n",
              "mean    2016.870017  12274.090118  ...     57.850926      1.353977\n",
              "std        2.056717   4771.685341  ...     10.169595      0.434362\n",
              "min     1996.000000    675.000000  ...     20.800000      0.000000\n",
              "25%     2016.000000   8999.000000  ...     52.300000      1.000000\n",
              "50%     2017.000000  11291.000000  ...     58.900000      1.200000\n",
              "75%     2018.000000  15295.000000  ...     65.700000      1.500000\n",
              "max     2060.000000  49999.000000  ...    201.800000      5.000000\n",
              "\n",
              "[8 rows x 6 columns]"
            ]
          },
          "metadata": {},
          "execution_count": 66
        }
      ]
    },
    {
      "cell_type": "code",
      "metadata": {
        "colab": {
          "base_uri": "https://localhost:8080/",
          "height": 424
        },
        "id": "FiH_zdGv_Eeu",
        "outputId": "fec50f2c-668b-447a-e27e-2f236d38f882"
      },
      "source": [
        "# Add in new feature age, and remove year\n",
        "train['age'] = 2021 - train['year']\n",
        "train.drop(['year'], axis=1, inplace=True)\n",
        "train"
      ],
      "execution_count": 67,
      "outputs": [
        {
          "output_type": "execute_result",
          "data": {
            "text/html": [
              "<div>\n",
              "<style scoped>\n",
              "    .dataframe tbody tr th:only-of-type {\n",
              "        vertical-align: middle;\n",
              "    }\n",
              "\n",
              "    .dataframe tbody tr th {\n",
              "        vertical-align: top;\n",
              "    }\n",
              "\n",
              "    .dataframe thead th {\n",
              "        text-align: right;\n",
              "    }\n",
              "</style>\n",
              "<table border=\"1\" class=\"dataframe\">\n",
              "  <thead>\n",
              "    <tr style=\"text-align: right;\">\n",
              "      <th></th>\n",
              "      <th>model</th>\n",
              "      <th>price</th>\n",
              "      <th>transmission</th>\n",
              "      <th>mileage</th>\n",
              "      <th>fuelType</th>\n",
              "      <th>tax</th>\n",
              "      <th>mpg</th>\n",
              "      <th>engineSize</th>\n",
              "      <th>age</th>\n",
              "    </tr>\n",
              "  </thead>\n",
              "  <tbody>\n",
              "    <tr>\n",
              "      <th>14875</th>\n",
              "      <td>Kuga</td>\n",
              "      <td>12000</td>\n",
              "      <td>Manual</td>\n",
              "      <td>21569</td>\n",
              "      <td>Diesel</td>\n",
              "      <td>125</td>\n",
              "      <td>60.1</td>\n",
              "      <td>2.0</td>\n",
              "      <td>5</td>\n",
              "    </tr>\n",
              "    <tr>\n",
              "      <th>10148</th>\n",
              "      <td>B-MAX</td>\n",
              "      <td>9995</td>\n",
              "      <td>Semi-Auto</td>\n",
              "      <td>17900</td>\n",
              "      <td>Petrol</td>\n",
              "      <td>160</td>\n",
              "      <td>44.1</td>\n",
              "      <td>1.6</td>\n",
              "      <td>5</td>\n",
              "    </tr>\n",
              "    <tr>\n",
              "      <th>10329</th>\n",
              "      <td>Fiesta</td>\n",
              "      <td>9280</td>\n",
              "      <td>Manual</td>\n",
              "      <td>28000</td>\n",
              "      <td>Petrol</td>\n",
              "      <td>145</td>\n",
              "      <td>62.8</td>\n",
              "      <td>1.0</td>\n",
              "      <td>4</td>\n",
              "    </tr>\n",
              "    <tr>\n",
              "      <th>5949</th>\n",
              "      <td>Fiesta</td>\n",
              "      <td>16295</td>\n",
              "      <td>Semi-Auto</td>\n",
              "      <td>7698</td>\n",
              "      <td>Petrol</td>\n",
              "      <td>145</td>\n",
              "      <td>48.7</td>\n",
              "      <td>1.0</td>\n",
              "      <td>2</td>\n",
              "    </tr>\n",
              "    <tr>\n",
              "      <th>11779</th>\n",
              "      <td>Mustang</td>\n",
              "      <td>48999</td>\n",
              "      <td>Automatic</td>\n",
              "      <td>7546</td>\n",
              "      <td>Petrol</td>\n",
              "      <td>145</td>\n",
              "      <td>23.5</td>\n",
              "      <td>5.0</td>\n",
              "      <td>4</td>\n",
              "    </tr>\n",
              "    <tr>\n",
              "      <th>...</th>\n",
              "      <td>...</td>\n",
              "      <td>...</td>\n",
              "      <td>...</td>\n",
              "      <td>...</td>\n",
              "      <td>...</td>\n",
              "      <td>...</td>\n",
              "      <td>...</td>\n",
              "      <td>...</td>\n",
              "      <td>...</td>\n",
              "    </tr>\n",
              "    <tr>\n",
              "      <th>14608</th>\n",
              "      <td>Kuga</td>\n",
              "      <td>4352</td>\n",
              "      <td>Manual</td>\n",
              "      <td>128046</td>\n",
              "      <td>Diesel</td>\n",
              "      <td>240</td>\n",
              "      <td>44.1</td>\n",
              "      <td>2.0</td>\n",
              "      <td>12</td>\n",
              "    </tr>\n",
              "    <tr>\n",
              "      <th>10355</th>\n",
              "      <td>B-MAX</td>\n",
              "      <td>7599</td>\n",
              "      <td>Manual</td>\n",
              "      <td>32505</td>\n",
              "      <td>Petrol</td>\n",
              "      <td>30</td>\n",
              "      <td>57.7</td>\n",
              "      <td>1.0</td>\n",
              "      <td>7</td>\n",
              "    </tr>\n",
              "    <tr>\n",
              "      <th>1446</th>\n",
              "      <td>Fiesta</td>\n",
              "      <td>12610</td>\n",
              "      <td>Manual</td>\n",
              "      <td>13589</td>\n",
              "      <td>Petrol</td>\n",
              "      <td>145</td>\n",
              "      <td>56.5</td>\n",
              "      <td>1.0</td>\n",
              "      <td>2</td>\n",
              "    </tr>\n",
              "    <tr>\n",
              "      <th>1860</th>\n",
              "      <td>Focus</td>\n",
              "      <td>8000</td>\n",
              "      <td>Manual</td>\n",
              "      <td>58774</td>\n",
              "      <td>Diesel</td>\n",
              "      <td>0</td>\n",
              "      <td>74.3</td>\n",
              "      <td>1.5</td>\n",
              "      <td>5</td>\n",
              "    </tr>\n",
              "    <tr>\n",
              "      <th>2308</th>\n",
              "      <td>Focus</td>\n",
              "      <td>26698</td>\n",
              "      <td>Manual</td>\n",
              "      <td>3498</td>\n",
              "      <td>Diesel</td>\n",
              "      <td>145</td>\n",
              "      <td>50.4</td>\n",
              "      <td>2.0</td>\n",
              "      <td>2</td>\n",
              "    </tr>\n",
              "  </tbody>\n",
              "</table>\n",
              "<p>10686 rows × 9 columns</p>\n",
              "</div>"
            ],
            "text/plain": [
              "          model  price transmission  mileage  ...  tax   mpg  engineSize  age\n",
              "14875      Kuga  12000       Manual    21569  ...  125  60.1         2.0    5\n",
              "10148     B-MAX   9995    Semi-Auto    17900  ...  160  44.1         1.6    5\n",
              "10329    Fiesta   9280       Manual    28000  ...  145  62.8         1.0    4\n",
              "5949     Fiesta  16295    Semi-Auto     7698  ...  145  48.7         1.0    2\n",
              "11779   Mustang  48999    Automatic     7546  ...  145  23.5         5.0    4\n",
              "...         ...    ...          ...      ...  ...  ...   ...         ...  ...\n",
              "14608      Kuga   4352       Manual   128046  ...  240  44.1         2.0   12\n",
              "10355     B-MAX   7599       Manual    32505  ...   30  57.7         1.0    7\n",
              "1446     Fiesta  12610       Manual    13589  ...  145  56.5         1.0    2\n",
              "1860      Focus   8000       Manual    58774  ...    0  74.3         1.5    5\n",
              "2308      Focus  26698       Manual     3498  ...  145  50.4         2.0    2\n",
              "\n",
              "[10686 rows x 9 columns]"
            ]
          },
          "metadata": {},
          "execution_count": 67
        }
      ]
    },
    {
      "cell_type": "code",
      "metadata": {
        "colab": {
          "base_uri": "https://localhost:8080/"
        },
        "id": "Xb7z2KsbK0RL",
        "outputId": "8fd151c3-3fc4-40e6-a58a-745a2bf0fc1b"
      },
      "source": [
        "#Check the ages to see if there's is outliers\n",
        "train['age'].unique()"
      ],
      "execution_count": 68,
      "outputs": [
        {
          "output_type": "execute_result",
          "data": {
            "text/plain": [
              "array([  5,   4,   2,   3,   7,   8,   6,  10,   1,  11,   9,  14,  13,\n",
              "        16,  12,  15,  19,  25,  17, -39,  21])"
            ]
          },
          "metadata": {},
          "execution_count": 68
        }
      ]
    },
    {
      "cell_type": "code",
      "metadata": {
        "colab": {
          "base_uri": "https://localhost:8080/"
        },
        "id": "Vy3LnxhNJedG",
        "outputId": "f2fb35a3-ade2-4dbe-dc1d-9edd570f0fe2"
      },
      "source": [
        "#Outliers in age\n",
        "train[train['age'] == -39].index[0]\n"
      ],
      "execution_count": 69,
      "outputs": [
        {
          "output_type": "execute_result",
          "data": {
            "text/plain": [
              "17572"
            ]
          },
          "metadata": {},
          "execution_count": 69
        }
      ]
    },
    {
      "cell_type": "code",
      "metadata": {
        "id": "DCQjYbM5LZnC"
      },
      "source": [
        "\n",
        "train.drop(index= train[train['age'] == -39].index[0], axis=1, inplace= True)"
      ],
      "execution_count": 70,
      "outputs": []
    },
    {
      "cell_type": "code",
      "metadata": {
        "colab": {
          "base_uri": "https://localhost:8080/"
        },
        "id": "kRvM9_OOAWHt",
        "outputId": "136a4ce2-0a95-4959-9ef3-a0a0435d896b"
      },
      "source": [
        "# Determine columns by data types\n",
        "\n",
        "cat_mask = (train.dtypes == np.object)\n",
        "num_mask = (train.dtypes == np.float64) | (train.dtypes == np.int64)\n",
        "\n",
        "cat_features = train.columns[cat_mask].tolist()\n",
        "num_features = train.columns[num_mask].tolist()\n",
        "\n",
        "\n",
        "print(f'Categorical columns: {cat_features}')\n",
        "print(f'Numerical columns: {num_features}')\n",
        "\n"
      ],
      "execution_count": 71,
      "outputs": [
        {
          "output_type": "stream",
          "name": "stdout",
          "text": [
            "Categorical columns: ['model', 'transmission', 'fuelType']\n",
            "Numerical columns: ['price', 'mileage', 'tax', 'mpg', 'engineSize', 'age']\n"
          ]
        }
      ]
    },
    {
      "cell_type": "markdown",
      "metadata": {
        "id": "zC8TM4g1BYaX"
      },
      "source": [
        "### Numerical Features"
      ]
    },
    {
      "cell_type": "code",
      "metadata": {
        "id": "shOqQSggBVVW"
      },
      "source": [
        "def hist_loop(data:  pd.DataFrame,\n",
        "              rows: int, \n",
        "              cols: int,\n",
        "              figsize: tuple):\n",
        "  \n",
        " \"\"\" Returns multiple histograms as subplots\n",
        "    \"\"\"\n",
        "\n",
        " fig, axes = plt.subplots(rows, cols, figsize=figsize)\n",
        "\n",
        " for i, ax in enumerate(axes.flatten()):\n",
        "    if i < len(data.columns):\n",
        "      data[sorted(data.columns)[i]].plot.hist(bins=30, ax=ax)\n",
        "      ax.set_title(f'{sorted(data.columns)[i]} distribution')\n",
        "      ax.tick_params(axis='x')\n",
        "      ax.tick_params(axis='y')\n",
        "      ax.get_yaxis().get_label().set_visible(False)\n",
        "    \n",
        "    else:\n",
        "      fig.delaxes(ax=ax)\n",
        "\n",
        " fig.tight_layout()\n",
        "\n"
      ],
      "execution_count": 72,
      "outputs": []
    },
    {
      "cell_type": "code",
      "metadata": {
        "colab": {
          "base_uri": "https://localhost:8080/",
          "height": 0
        },
        "id": "MF_d6uoOF410",
        "outputId": "08376859-4f87-454f-fa5e-78d977921264"
      },
      "source": [
        "# Plot all numerical features\n",
        "\n",
        "hist_loop(data=train[num_features], rows=2, cols=3, figsize=(14,7))"
      ],
      "execution_count": 73,
      "outputs": [
        {
          "output_type": "display_data",
          "data": {
            "image/png": "[encoded data removed]",
            "text/plain": [
              "<Figure size 1008x504 with 6 Axes>"
            ]
          },
          "metadata": {
            "needs_background": "light"
          }
        }
      ]
    },
    {
      "cell_type": "markdown",
      "metadata": {
        "id": "NbJ3-OUJMPTH"
      },
      "source": [
        "Now, let's check the skewness of all numerical features"
      ]
    },
    {
      "cell_type": "code",
      "metadata": {
        "id": "N8cl-ZSQMOOV"
      },
      "source": [
        "def skew_df(data: pd.DataFrame, skew_limit: float) -> pd.DataFrame:\n",
        "  # define a limit above which we will tranform\n",
        "\n",
        "  skew_vals= data.skew()\n",
        "\n",
        "  # Showing the skewed columns\n",
        "\n",
        "  skew_cols = (skew_vals\n",
        "               .sort_values(ascending=False)\n",
        "               .to_frame('Skew')\n",
        "               .query('abs(Skew) > {}'.format(skew_limit)))\n",
        "\n",
        "  return skew_cols"
      ],
      "execution_count": 74,
      "outputs": []
    },
    {
      "cell_type": "code",
      "metadata": {
        "colab": {
          "base_uri": "https://localhost:8080/",
          "height": 0
        },
        "id": "q9VU8EStOd0c",
        "outputId": "17f631e7-893b-4a48-fadc-7f9d25541dfb"
      },
      "source": [
        "\n",
        "\n",
        "skew_cols = skew_df(train[num_features], 0.70)\n",
        "skew_cols"
      ],
      "execution_count": 75,
      "outputs": [
        {
          "output_type": "execute_result",
          "data": {
            "text/html": [
              "<div>\n",
              "<style scoped>\n",
              "    .dataframe tbody tr th:only-of-type {\n",
              "        vertical-align: middle;\n",
              "    }\n",
              "\n",
              "    .dataframe tbody tr th {\n",
              "        vertical-align: top;\n",
              "    }\n",
              "\n",
              "    .dataframe thead th {\n",
              "        text-align: right;\n",
              "    }\n",
              "</style>\n",
              "<table border=\"1\" class=\"dataframe\">\n",
              "  <thead>\n",
              "    <tr style=\"text-align: right;\">\n",
              "      <th></th>\n",
              "      <th>Skew</th>\n",
              "    </tr>\n",
              "  </thead>\n",
              "  <tbody>\n",
              "    <tr>\n",
              "      <th>engineSize</th>\n",
              "      <td>1.990589</td>\n",
              "    </tr>\n",
              "    <tr>\n",
              "      <th>mileage</th>\n",
              "      <td>1.842012</td>\n",
              "    </tr>\n",
              "    <tr>\n",
              "      <th>age</th>\n",
              "      <td>1.839659</td>\n",
              "    </tr>\n",
              "    <tr>\n",
              "      <th>price</th>\n",
              "      <td>1.162327</td>\n",
              "    </tr>\n",
              "  </tbody>\n",
              "</table>\n",
              "</div>"
            ],
            "text/plain": [
              "                Skew\n",
              "engineSize  1.990589\n",
              "mileage     1.842012\n",
              "age         1.839659\n",
              "price       1.162327"
            ]
          },
          "metadata": {},
          "execution_count": 75
        }
      ]
    },
    {
      "cell_type": "markdown",
      "metadata": {
        "id": "i4_3b-cPQOKz"
      },
      "source": [
        "· If the skewness is between -0.5 and 0.5, the data are fairly symmetrical.  \n",
        "· If the skewness is between -1 and — 0.5 or between 0.5 and 1, the data are moderately skewed.   \n",
        "· If the skewness is less than -1 or greater than 1, the data are highly skewed\n",
        "\n",
        "A skewness value of 0 in the output denotes a symmetrical distribution of values in row 1.\n",
        "\n",
        "A negative skewness value in the output indicates an asymmetry in the distribution corresponding the tail is larger towards the left hand side of the distribution.\n",
        "\n",
        "A positive skewness value in the output indicates an asymmetry in the distribution corresponding the tail is larger towards the right hand side of the distribution"
      ]
    },
    {
      "cell_type": "markdown",
      "metadata": {
        "id": "MFufFfpV7fn7"
      },
      "source": [
        "Almost all features are right-skewed. The exception is tax and mpg. Also, there are zero values in engineSize(eletric car). Therefore, Square root transformation might be a good choice to eliminate the skewness."
      ]
    },
    {
      "cell_type": "code",
      "metadata": {
        "id": "k7OtEgJr7WmZ"
      },
      "source": [
        "# Applying square root transformation on features\n",
        "train_transform = train[num_features].drop('price', axis=1).copy()\n",
        "\n",
        "for col in list(skew_cols.index):\n",
        "  if col != 'price':\n",
        "    train_transform[col] = train_transform[col].apply(np.sqrt)\n",
        "\n"
      ],
      "execution_count": 76,
      "outputs": []
    },
    {
      "cell_type": "code",
      "metadata": {
        "colab": {
          "base_uri": "https://localhost:8080/",
          "height": 0
        },
        "id": "I2tUxRbW9m0M",
        "outputId": "fe443123-f307-4840-cced-c90d6ba936d7"
      },
      "source": [
        "# Look for skewd features again\n",
        "skew_df(train_transform, 0.70)"
      ],
      "execution_count": 77,
      "outputs": [
        {
          "output_type": "execute_result",
          "data": {
            "text/html": [
              "<div>\n",
              "<style scoped>\n",
              "    .dataframe tbody tr th:only-of-type {\n",
              "        vertical-align: middle;\n",
              "    }\n",
              "\n",
              "    .dataframe tbody tr th {\n",
              "        vertical-align: top;\n",
              "    }\n",
              "\n",
              "    .dataframe thead th {\n",
              "        text-align: right;\n",
              "    }\n",
              "</style>\n",
              "<table border=\"1\" class=\"dataframe\">\n",
              "  <thead>\n",
              "    <tr style=\"text-align: right;\">\n",
              "      <th></th>\n",
              "      <th>Skew</th>\n",
              "    </tr>\n",
              "  </thead>\n",
              "  <tbody>\n",
              "    <tr>\n",
              "      <th>age</th>\n",
              "      <td>0.82975</td>\n",
              "    </tr>\n",
              "  </tbody>\n",
              "</table>\n",
              "</div>"
            ],
            "text/plain": [
              "        Skew\n",
              "age  0.82975"
            ]
          },
          "metadata": {},
          "execution_count": 77
        }
      ]
    },
    {
      "cell_type": "markdown",
      "metadata": {
        "id": "PhKXR0RmCZpR"
      },
      "source": [
        "Well, it's seems that we can do better with age. Let's try to apply log transformation. "
      ]
    },
    {
      "cell_type": "code",
      "metadata": {
        "id": "cEqupureCZN_"
      },
      "source": [
        "for col in list(skew_cols.index):\n",
        "  if col == 'age':\n",
        "    train_transform[col] = train_transform[col].apply(np.log)"
      ],
      "execution_count": 78,
      "outputs": []
    },
    {
      "cell_type": "code",
      "metadata": {
        "colab": {
          "base_uri": "https://localhost:8080/",
          "height": 0
        },
        "id": "kURt_3P9Cqcp",
        "outputId": "e8db2a9b-7b14-4b9a-dd3b-ddceb0c979d2"
      },
      "source": [
        "# Look for skewd features again\n",
        "skew_df(train_transform, 0.70)"
      ],
      "execution_count": 79,
      "outputs": [
        {
          "output_type": "execute_result",
          "data": {
            "text/html": [
              "<div>\n",
              "<style scoped>\n",
              "    .dataframe tbody tr th:only-of-type {\n",
              "        vertical-align: middle;\n",
              "    }\n",
              "\n",
              "    .dataframe tbody tr th {\n",
              "        vertical-align: top;\n",
              "    }\n",
              "\n",
              "    .dataframe thead th {\n",
              "        text-align: right;\n",
              "    }\n",
              "</style>\n",
              "<table border=\"1\" class=\"dataframe\">\n",
              "  <thead>\n",
              "    <tr style=\"text-align: right;\">\n",
              "      <th></th>\n",
              "      <th>Skew</th>\n",
              "    </tr>\n",
              "  </thead>\n",
              "  <tbody>\n",
              "  </tbody>\n",
              "</table>\n",
              "</div>"
            ],
            "text/plain": [
              "Empty DataFrame\n",
              "Columns: [Skew]\n",
              "Index: []"
            ]
          },
          "metadata": {},
          "execution_count": 79
        }
      ]
    },
    {
      "cell_type": "markdown",
      "metadata": {
        "id": "_fjsJKVfDRTA"
      },
      "source": [
        "Here  you go, skewness is fixed. Let's use a pairplot to have an overview of these features and the target."
      ]
    },
    {
      "cell_type": "code",
      "metadata": {
        "colab": {
          "base_uri": "https://localhost:8080/",
          "height": 0
        },
        "id": "1gIHKw3SDMD7",
        "outputId": "b363299b-0cf0-4ec7-c082-f9355e635b32"
      },
      "source": [
        "sns.pairplot(train_transform.join(train['price']), plot_kws=dict(alpha=.3, edgecolor='none'))"
      ],
      "execution_count": 80,
      "outputs": [
        {
          "output_type": "execute_result",
          "data": {
            "text/plain": [
              "<seaborn.axisgrid.PairGrid at 0x7fbca4ea4090>"
            ]
          },
          "metadata": {},
          "execution_count": 80
        },
        {
          "output_type": "display_data",
          "data": {
            "image/png": "[encoded data removed]",
            "text/plain": [
              "<Figure size 1080x1080 with 42 Axes>"
            ]
          },
          "metadata": {
            "needs_background": "light"
          }
        }
      ]
    },
    {
      "cell_type": "markdown",
      "metadata": {
        "id": "AVHhhd8nGuU-"
      },
      "source": [
        "Age has negative linear relationship with price. It means that more older are cheapers.\n",
        "Age also has a linear relationship with mileage (the older the more miles). This is multicollinearity."
      ]
    },
    {
      "cell_type": "markdown",
      "metadata": {
        "id": "p3QtzOzIk9Lz"
      },
      "source": [
        "Let's have a look at  how  severe the multicollinearity is."
      ]
    },
    {
      "cell_type": "markdown",
      "metadata": {
        "id": "H5PLZfhRlTun"
      },
      "source": [
        "Colinearity is the state where two variables are highly correlated and contain similiar information about the variance within a given dataset. To detect colinearity among variables, simply create a correlation matrix and find variables with large absolute values. \n",
        "\n",
        "Multicolinearity on the other hand is more troublesome to detect because it emerges when three or more variables, which are highly correlated, are included within a model. To make matters worst multicolinearity can emerge even when isolated pairs of variables are not colinear.\n",
        "\n",
        "\n",
        "The Variance Inflation Factor (VIF) is a measure of colinearity among predictor variables within a multiple regression. It is calculated by taking the the ratio of the variance of all a given model's betas divide by the variane of a single beta if it were fit alone.\n",
        "\n",
        "\n",
        "**A rule of thumb for interpreting the variance inflation factor:**\n",
        "\n",
        "1 = not correlated.   \n",
        "Between 1 and 5 = moderately correlated.   \n",
        "Greater than 5 = highly correlated.   "
      ]
    },
    {
      "cell_type": "code",
      "metadata": {
        "id": "xYpxsS1glvC-"
      },
      "source": [
        "from statsmodels.stats.outliers_influence import variance_inflation_factor\n",
        "\n",
        "def calc_vif(X):\n",
        "  vif =  pd.DataFrame()\n",
        "  vif['variables'] = X.columns\n",
        "  vif['VIF'] = [variance_inflation_factor(X.values, i) for i in range(X.shape[1])]\n",
        "\n",
        "  return(vif)"
      ],
      "execution_count": 81,
      "outputs": []
    },
    {
      "cell_type": "code",
      "metadata": {
        "colab": {
          "base_uri": "https://localhost:8080/",
          "height": 0
        },
        "id": "Vfx4XyxAfXKA",
        "outputId": "051f637e-2e52-4319-e0b6-0204f8427be6"
      },
      "source": [
        "calc_vif(train_transform)"
      ],
      "execution_count": 82,
      "outputs": [
        {
          "output_type": "execute_result",
          "data": {
            "text/html": [
              "<div>\n",
              "<style scoped>\n",
              "    .dataframe tbody tr th:only-of-type {\n",
              "        vertical-align: middle;\n",
              "    }\n",
              "\n",
              "    .dataframe tbody tr th {\n",
              "        vertical-align: top;\n",
              "    }\n",
              "\n",
              "    .dataframe thead th {\n",
              "        text-align: right;\n",
              "    }\n",
              "</style>\n",
              "<table border=\"1\" class=\"dataframe\">\n",
              "  <thead>\n",
              "    <tr style=\"text-align: right;\">\n",
              "      <th></th>\n",
              "      <th>variables</th>\n",
              "      <th>VIF</th>\n",
              "    </tr>\n",
              "  </thead>\n",
              "  <tbody>\n",
              "    <tr>\n",
              "      <th>0</th>\n",
              "      <td>mileage</td>\n",
              "      <td>14.835802</td>\n",
              "    </tr>\n",
              "    <tr>\n",
              "      <th>1</th>\n",
              "      <td>tax</td>\n",
              "      <td>5.246805</td>\n",
              "    </tr>\n",
              "    <tr>\n",
              "      <th>2</th>\n",
              "      <td>mpg</td>\n",
              "      <td>17.217603</td>\n",
              "    </tr>\n",
              "    <tr>\n",
              "      <th>3</th>\n",
              "      <td>engineSize</td>\n",
              "      <td>30.471097</td>\n",
              "    </tr>\n",
              "    <tr>\n",
              "      <th>4</th>\n",
              "      <td>age</td>\n",
              "      <td>21.194890</td>\n",
              "    </tr>\n",
              "  </tbody>\n",
              "</table>\n",
              "</div>"
            ],
            "text/plain": [
              "    variables        VIF\n",
              "0     mileage  14.835802\n",
              "1         tax   5.246805\n",
              "2         mpg  17.217603\n",
              "3  engineSize  30.471097\n",
              "4         age  21.194890"
            ]
          },
          "metadata": {},
          "execution_count": 82
        }
      ]
    },
    {
      "cell_type": "markdown",
      "metadata": {
        "id": "48P5C4UKmZlO"
      },
      "source": [
        "The features have high multicollinearity. This problem might be resolved by regularization later."
      ]
    },
    {
      "cell_type": "markdown",
      "metadata": {
        "id": "EmTHfFtvmvss"
      },
      "source": [
        "## Categorical features"
      ]
    },
    {
      "cell_type": "markdown",
      "metadata": {
        "id": "LA9J0ID4m16h"
      },
      "source": [
        "Let's check the categorical features"
      ]
    },
    {
      "cell_type": "code",
      "metadata": {
        "colab": {
          "base_uri": "https://localhost:8080/",
          "height": 0
        },
        "id": "y6KNzcLzmYwU",
        "outputId": "889ac474-21e6-4073-caf9-b5c5bd90abf1"
      },
      "source": [
        "train.describe(include=np.object)"
      ],
      "execution_count": 83,
      "outputs": [
        {
          "output_type": "execute_result",
          "data": {
            "text/html": [
              "<div>\n",
              "<style scoped>\n",
              "    .dataframe tbody tr th:only-of-type {\n",
              "        vertical-align: middle;\n",
              "    }\n",
              "\n",
              "    .dataframe tbody tr th {\n",
              "        vertical-align: top;\n",
              "    }\n",
              "\n",
              "    .dataframe thead th {\n",
              "        text-align: right;\n",
              "    }\n",
              "</style>\n",
              "<table border=\"1\" class=\"dataframe\">\n",
              "  <thead>\n",
              "    <tr style=\"text-align: right;\">\n",
              "      <th></th>\n",
              "      <th>model</th>\n",
              "      <th>transmission</th>\n",
              "      <th>fuelType</th>\n",
              "    </tr>\n",
              "  </thead>\n",
              "  <tbody>\n",
              "    <tr>\n",
              "      <th>count</th>\n",
              "      <td>10685</td>\n",
              "      <td>10685</td>\n",
              "      <td>10685</td>\n",
              "    </tr>\n",
              "    <tr>\n",
              "      <th>unique</th>\n",
              "      <td>22</td>\n",
              "      <td>3</td>\n",
              "      <td>5</td>\n",
              "    </tr>\n",
              "    <tr>\n",
              "      <th>top</th>\n",
              "      <td>Fiesta</td>\n",
              "      <td>Manual</td>\n",
              "      <td>Petrol</td>\n",
              "    </tr>\n",
              "    <tr>\n",
              "      <th>freq</th>\n",
              "      <td>3890</td>\n",
              "      <td>9240</td>\n",
              "      <td>7267</td>\n",
              "    </tr>\n",
              "  </tbody>\n",
              "</table>\n",
              "</div>"
            ],
            "text/plain": [
              "          model transmission fuelType\n",
              "count     10685        10685    10685\n",
              "unique       22            3        5\n",
              "top      Fiesta       Manual   Petrol\n",
              "freq       3890         9240     7267"
            ]
          },
          "metadata": {},
          "execution_count": 83
        }
      ]
    },
    {
      "cell_type": "code",
      "metadata": {
        "colab": {
          "base_uri": "https://localhost:8080/"
        },
        "id": "TksxFUdJnNda",
        "outputId": "7b9f4d91-7ba8-4f65-8784-cc691066f14b"
      },
      "source": [
        "set(train['model'])"
      ],
      "execution_count": 84,
      "outputs": [
        {
          "output_type": "execute_result",
          "data": {
            "text/plain": [
              "{' B-MAX',\n",
              " ' C-MAX',\n",
              " ' EcoSport',\n",
              " ' Edge',\n",
              " ' Escort',\n",
              " ' Fiesta',\n",
              " ' Focus',\n",
              " ' Fusion',\n",
              " ' Galaxy',\n",
              " ' Grand C-MAX',\n",
              " ' Grand Tourneo Connect',\n",
              " ' KA',\n",
              " ' Ka+',\n",
              " ' Kuga',\n",
              " ' Mondeo',\n",
              " ' Mustang',\n",
              " ' Puma',\n",
              " ' S-MAX',\n",
              " ' Streetka',\n",
              " ' Tourneo Connect',\n",
              " ' Tourneo Custom',\n",
              " ' Transit Tourneo'}"
            ]
          },
          "metadata": {},
          "execution_count": 84
        }
      ]
    },
    {
      "cell_type": "markdown",
      "metadata": {
        "id": "UtMqw-E7nYuz"
      },
      "source": [
        "We need to remove leading spaces"
      ]
    },
    {
      "cell_type": "code",
      "metadata": {
        "colab": {
          "base_uri": "https://localhost:8080/"
        },
        "id": "pu_njm5mnYMv",
        "outputId": "46206c49-0024-41cb-c2c3-217064a119cc"
      },
      "source": [
        "train['model'] = train['model'].str.strip(' ')\n",
        "set(train['model'])"
      ],
      "execution_count": 85,
      "outputs": [
        {
          "output_type": "execute_result",
          "data": {
            "text/plain": [
              "{'B-MAX',\n",
              " 'C-MAX',\n",
              " 'EcoSport',\n",
              " 'Edge',\n",
              " 'Escort',\n",
              " 'Fiesta',\n",
              " 'Focus',\n",
              " 'Fusion',\n",
              " 'Galaxy',\n",
              " 'Grand C-MAX',\n",
              " 'Grand Tourneo Connect',\n",
              " 'KA',\n",
              " 'Ka+',\n",
              " 'Kuga',\n",
              " 'Mondeo',\n",
              " 'Mustang',\n",
              " 'Puma',\n",
              " 'S-MAX',\n",
              " 'Streetka',\n",
              " 'Tourneo Connect',\n",
              " 'Tourneo Custom',\n",
              " 'Transit Tourneo'}"
            ]
          },
          "metadata": {},
          "execution_count": 85
        }
      ]
    },
    {
      "cell_type": "code",
      "metadata": {
        "colab": {
          "base_uri": "https://localhost:8080/",
          "height": 0
        },
        "id": "7MBBdQZLn2Ti",
        "outputId": "ff0ad19e-87b8-47dc-a7d7-982d1e801f80"
      },
      "source": [
        "# Let's make a boxplot of model and price\n",
        "\n",
        "fig, ax = plt.subplots(figsize=(15,9))\n",
        "order = sorted(set(train['model']))\n",
        "sns.boxplot(x='model', y='price', data=train, order=order, ax=ax)\n",
        "plt.xticks(rotation=45)\n",
        "plt.title('Price by Model', fontsize=18)\n",
        "plt.show()"
      ],
      "execution_count": 86,
      "outputs": [
        {
          "output_type": "display_data",
          "data": {
            "image/png": "[encoded data removed]",
            "text/plain": [
              "<Figure size 1080x648 with 1 Axes>"
            ]
          },
          "metadata": {
            "needs_background": "light"
          }
        }
      ]
    },
    {
      "cell_type": "markdown",
      "metadata": {
        "id": "c8Q0yp-wpLFh"
      },
      "source": [
        "Now, it's time to see the transmission and fuelType features"
      ]
    },
    {
      "cell_type": "code",
      "metadata": {
        "colab": {
          "base_uri": "https://localhost:8080/"
        },
        "id": "tckdu57NpkgJ",
        "outputId": "dddc1bb7-3a2d-47ff-a10e-53fe6c5ddc0e"
      },
      "source": [
        "set(train['transmission'])"
      ],
      "execution_count": 87,
      "outputs": [
        {
          "output_type": "execute_result",
          "data": {
            "text/plain": [
              "{'Automatic', 'Manual', 'Semi-Auto'}"
            ]
          },
          "metadata": {},
          "execution_count": 87
        }
      ]
    },
    {
      "cell_type": "code",
      "metadata": {
        "colab": {
          "base_uri": "https://localhost:8080/"
        },
        "id": "_JoSTy2gpvfs",
        "outputId": "77b5474a-8f96-4ebc-9c47-1d2f153291ee"
      },
      "source": [
        "set(train['fuelType'])"
      ],
      "execution_count": 88,
      "outputs": [
        {
          "output_type": "execute_result",
          "data": {
            "text/plain": [
              "{'Diesel', 'Electric', 'Hybrid', 'Other', 'Petrol'}"
            ]
          },
          "metadata": {},
          "execution_count": 88
        }
      ]
    },
    {
      "cell_type": "code",
      "metadata": {
        "colab": {
          "base_uri": "https://localhost:8080/",
          "height": 0
        },
        "id": "UO7Wl2BArbqQ",
        "outputId": "d6718b3b-e282-48d8-bb98-661d17891344"
      },
      "source": [
        "# box plots of price and transmission / fuel type\n",
        "\n",
        "fig, ax = plt.subplots(1, 2, figsize=(20,6), sharey=True)\n",
        "\n",
        "order0 = sorted(set(train['transmission']))\n",
        "sns.boxplot(x='transmission', y='price', data=train, order=order0, ax=ax[0])\n",
        "ax[0].set_title('Price by Transmission', fontsize=16)\n",
        "ax[0].tick_params('x', labelrotation=45)\n",
        "\n",
        "\n",
        "order1 = sorted(set(train['fuelType']))\n",
        "sns.boxplot(x='fuelType', y='price', data=train, order=order1, ax=ax[1])\n",
        "ax[1].set_title('Price by Fuel Type', fontsize=16)\n",
        "ax[1].tick_params('x', labelrotation=45)\n",
        "\n",
        "plt.show()"
      ],
      "execution_count": 89,
      "outputs": [
        {
          "output_type": "display_data",
          "data": {
            "image/png": "[encoded data removed]",
            "text/plain": [
              "<Figure size 1440x432 with 2 Axes>"
            ]
          },
          "metadata": {
            "needs_background": "light"
          }
        }
      ]
    },
    {
      "cell_type": "markdown",
      "metadata": {
        "id": "H_x0QodKshgx"
      },
      "source": [
        "As we could see, car prices are different among models, transmission and fuel types."
      ]
    },
    {
      "cell_type": "markdown",
      "metadata": {
        "id": "UXNeD9M-u2KD"
      },
      "source": [
        "# 3. Model variations"
      ]
    },
    {
      "cell_type": "markdown",
      "metadata": {
        "id": "V4rCP6HvvKqz"
      },
      "source": [
        "In this section, we will perform some features engineering in order  fit linear regression and compare the root mean square errors."
      ]
    },
    {
      "cell_type": "code",
      "metadata": {
        "id": "bP-aaX2KveZv"
      },
      "source": [
        "from sklearn.linear_model import LinearRegression\n",
        "from sklearn.metrics import mean_squared_error, r2_score\n",
        "from sklearn.preprocessing import OneHotEncoder, StandardScaler, PolynomialFeatures\n"
      ],
      "execution_count": 17,
      "outputs": []
    },
    {
      "cell_type": "code",
      "metadata": {
        "colab": {
          "base_uri": "https://localhost:8080/"
        },
        "id": "B7BrC818u-36",
        "outputId": "447885f9-d881-44fc-dafe-2b0ed2e05f2a"
      },
      "source": [
        "df = train_val.copy()\n",
        "df.shape"
      ],
      "execution_count": 163,
      "outputs": [
        {
          "output_type": "execute_result",
          "data": {
            "text/plain": [
              "(14248, 9)"
            ]
          },
          "metadata": {},
          "execution_count": 163
        }
      ]
    },
    {
      "cell_type": "code",
      "metadata": {
        "colab": {
          "base_uri": "https://localhost:8080/",
          "height": 424
        },
        "id": "ui4AVN0vPCdy",
        "outputId": "0536f87d-b5a4-4418-a504-18f873f1f3e6"
      },
      "source": [
        "df"
      ],
      "execution_count": 164,
      "outputs": [
        {
          "output_type": "execute_result",
          "data": {
            "text/html": [
              "<div>\n",
              "<style scoped>\n",
              "    .dataframe tbody tr th:only-of-type {\n",
              "        vertical-align: middle;\n",
              "    }\n",
              "\n",
              "    .dataframe tbody tr th {\n",
              "        vertical-align: top;\n",
              "    }\n",
              "\n",
              "    .dataframe thead th {\n",
              "        text-align: right;\n",
              "    }\n",
              "</style>\n",
              "<table border=\"1\" class=\"dataframe\">\n",
              "  <thead>\n",
              "    <tr style=\"text-align: right;\">\n",
              "      <th></th>\n",
              "      <th>model</th>\n",
              "      <th>year</th>\n",
              "      <th>price</th>\n",
              "      <th>transmission</th>\n",
              "      <th>mileage</th>\n",
              "      <th>fuelType</th>\n",
              "      <th>tax</th>\n",
              "      <th>mpg</th>\n",
              "      <th>engineSize</th>\n",
              "    </tr>\n",
              "  </thead>\n",
              "  <tbody>\n",
              "    <tr>\n",
              "      <th>8885</th>\n",
              "      <td>Kuga</td>\n",
              "      <td>2017</td>\n",
              "      <td>14900</td>\n",
              "      <td>Manual</td>\n",
              "      <td>21419</td>\n",
              "      <td>Diesel</td>\n",
              "      <td>145</td>\n",
              "      <td>60.1</td>\n",
              "      <td>2.0</td>\n",
              "    </tr>\n",
              "    <tr>\n",
              "      <th>693</th>\n",
              "      <td>Grand C-MAX</td>\n",
              "      <td>2017</td>\n",
              "      <td>13498</td>\n",
              "      <td>Manual</td>\n",
              "      <td>8913</td>\n",
              "      <td>Petrol</td>\n",
              "      <td>145</td>\n",
              "      <td>54.3</td>\n",
              "      <td>1.0</td>\n",
              "    </tr>\n",
              "    <tr>\n",
              "      <th>16898</th>\n",
              "      <td>B-MAX</td>\n",
              "      <td>2013</td>\n",
              "      <td>5999</td>\n",
              "      <td>Manual</td>\n",
              "      <td>40306</td>\n",
              "      <td>Petrol</td>\n",
              "      <td>30</td>\n",
              "      <td>55.4</td>\n",
              "      <td>1.0</td>\n",
              "    </tr>\n",
              "    <tr>\n",
              "      <th>17604</th>\n",
              "      <td>Focus</td>\n",
              "      <td>2006</td>\n",
              "      <td>2495</td>\n",
              "      <td>Automatic</td>\n",
              "      <td>70730</td>\n",
              "      <td>Petrol</td>\n",
              "      <td>260</td>\n",
              "      <td>36.7</td>\n",
              "      <td>1.6</td>\n",
              "    </tr>\n",
              "    <tr>\n",
              "      <th>2444</th>\n",
              "      <td>KA</td>\n",
              "      <td>2016</td>\n",
              "      <td>6340</td>\n",
              "      <td>Manual</td>\n",
              "      <td>13954</td>\n",
              "      <td>Petrol</td>\n",
              "      <td>30</td>\n",
              "      <td>57.7</td>\n",
              "      <td>1.2</td>\n",
              "    </tr>\n",
              "    <tr>\n",
              "      <th>...</th>\n",
              "      <td>...</td>\n",
              "      <td>...</td>\n",
              "      <td>...</td>\n",
              "      <td>...</td>\n",
              "      <td>...</td>\n",
              "      <td>...</td>\n",
              "      <td>...</td>\n",
              "      <td>...</td>\n",
              "      <td>...</td>\n",
              "    </tr>\n",
              "    <tr>\n",
              "      <th>9225</th>\n",
              "      <td>Fiesta</td>\n",
              "      <td>2015</td>\n",
              "      <td>6970</td>\n",
              "      <td>Manual</td>\n",
              "      <td>54790</td>\n",
              "      <td>Diesel</td>\n",
              "      <td>0</td>\n",
              "      <td>88.3</td>\n",
              "      <td>1.5</td>\n",
              "    </tr>\n",
              "    <tr>\n",
              "      <th>13123</th>\n",
              "      <td>Kuga</td>\n",
              "      <td>2019</td>\n",
              "      <td>20000</td>\n",
              "      <td>Manual</td>\n",
              "      <td>5511</td>\n",
              "      <td>Petrol</td>\n",
              "      <td>150</td>\n",
              "      <td>35.3</td>\n",
              "      <td>1.5</td>\n",
              "    </tr>\n",
              "    <tr>\n",
              "      <th>9845</th>\n",
              "      <td>EcoSport</td>\n",
              "      <td>2017</td>\n",
              "      <td>10795</td>\n",
              "      <td>Manual</td>\n",
              "      <td>13383</td>\n",
              "      <td>Petrol</td>\n",
              "      <td>145</td>\n",
              "      <td>52.3</td>\n",
              "      <td>1.0</td>\n",
              "    </tr>\n",
              "    <tr>\n",
              "      <th>10799</th>\n",
              "      <td>Kuga</td>\n",
              "      <td>2017</td>\n",
              "      <td>15000</td>\n",
              "      <td>Manual</td>\n",
              "      <td>12555</td>\n",
              "      <td>Diesel</td>\n",
              "      <td>145</td>\n",
              "      <td>60.1</td>\n",
              "      <td>2.0</td>\n",
              "    </tr>\n",
              "    <tr>\n",
              "      <th>2732</th>\n",
              "      <td>Fiesta</td>\n",
              "      <td>2017</td>\n",
              "      <td>7999</td>\n",
              "      <td>Manual</td>\n",
              "      <td>36987</td>\n",
              "      <td>Petrol</td>\n",
              "      <td>145</td>\n",
              "      <td>54.3</td>\n",
              "      <td>1.2</td>\n",
              "    </tr>\n",
              "  </tbody>\n",
              "</table>\n",
              "<p>14248 rows × 9 columns</p>\n",
              "</div>"
            ],
            "text/plain": [
              "              model  year  price transmission  ...  fuelType  tax   mpg  engineSize\n",
              "8885           Kuga  2017  14900       Manual  ...    Diesel  145  60.1         2.0\n",
              "693     Grand C-MAX  2017  13498       Manual  ...    Petrol  145  54.3         1.0\n",
              "16898         B-MAX  2013   5999       Manual  ...    Petrol   30  55.4         1.0\n",
              "17604         Focus  2006   2495    Automatic  ...    Petrol  260  36.7         1.6\n",
              "2444             KA  2016   6340       Manual  ...    Petrol   30  57.7         1.2\n",
              "...             ...   ...    ...          ...  ...       ...  ...   ...         ...\n",
              "9225         Fiesta  2015   6970       Manual  ...    Diesel    0  88.3         1.5\n",
              "13123          Kuga  2019  20000       Manual  ...    Petrol  150  35.3         1.5\n",
              "9845       EcoSport  2017  10795       Manual  ...    Petrol  145  52.3         1.0\n",
              "10799          Kuga  2017  15000       Manual  ...    Diesel  145  60.1         2.0\n",
              "2732         Fiesta  2017   7999       Manual  ...    Petrol  145  54.3         1.2\n",
              "\n",
              "[14248 rows x 9 columns]"
            ]
          },
          "metadata": {},
          "execution_count": 164
        }
      ]
    },
    {
      "cell_type": "code",
      "metadata": {
        "id": "b823hdTsv1Ql"
      },
      "source": [
        "# Cass for feature engineering and model fitting\n",
        "\n",
        "class LR_model:\n",
        "  #default values\n",
        "  target = 'price'\n",
        "  test_size = 0.25\n",
        "  random_state = 0\n",
        "\n",
        "  sqrt_trans_features = ['engineSize', 'mileage']\n",
        "  log_trans_feature = ['age']\n",
        "\n",
        "  def __init__(self, data):\n",
        "    self.train, self.test = train_test_split(data, test_size=LR_model.test_size, random_state=LR_model.random_state)\n",
        "\n",
        "\n",
        "\n",
        "  def clean_data(self, df):\n",
        "    \"\"\" Cleaning data by tranforming year in age, \n",
        "    dropping the year feature and \n",
        "    removing leading spaces from model \"\"\"\n",
        "\n",
        "    df['age'] = 2021 - df['year']\n",
        "    df.drop(['year'], axis=1, inplace=True)\n",
        "\n",
        "    #Removing outlier from age\n",
        "    if df[df['age'] == -39].index > 0:\n",
        "      df.drop(index= df[df['age'] == -39].index, axis=1, inplace= True)\n",
        "    \n",
        "    return df\n",
        "\n",
        "\n",
        "\n",
        "  def one_hot_enc(self,X_train, X_test):\n",
        "    \"\"\" \n",
        "    Performs one-hot-encoding and \n",
        "    drops the first category\n",
        "    \"\"\"\n",
        "\n",
        "    OHT = OneHotEncoder(handle_unknown='ignore', sparse=False)\n",
        "\n",
        "    #filter categorical features only\n",
        "\n",
        "    X_train_cat = X_train.select_dtypes(include=['object'])\n",
        "    X_test_cat = X_test.select_dtypes(include=['object'])\n",
        "\n",
        "\n",
        "    # Fit one-hot encoding on training set\n",
        "    # Transform both training set and test set\n",
        "    \n",
        "    X_train_en = OHT.fit_transform(X_train_cat)\n",
        "    X_test_en = OHT.transform(X_test_cat)\n",
        "\n",
        "  \n",
        "\n",
        "    #Drop one column of each category\n",
        "\n",
        "    for col in X_train_cat.columns.tolist():\n",
        "      cat_cols = X_train_cat.columns[X_train_cat.columns.str.startswith(col)].tolist()\n",
        "\n",
        "      if len(cat_cols) > 1:\n",
        "        X_train_cat.drop(cat_cols[0], axis=1, inplace=True)\n",
        "\n",
        "    #Drop one column of each category\n",
        "\n",
        "    for col in X_test_cat.columns.tolist():\n",
        "      cat_cols = X_test_cat.columns[X_test_cat.columns.str.startswith(col)].tolist()\n",
        "\n",
        "      if len(cat_cols) > 1:\n",
        "        X_test_cat.drop(cat_cols[0], axis=1, inplace=True)\n",
        "\n",
        "\n",
        "    # Join dummy values with numerical features\n",
        "    \n",
        "    X_train_en_df = pd.DataFrame(X_train_en,\n",
        "                                      index=X_train.index,\n",
        "                                      columns=OHT.get_feature_names_out(X_train_cat.columns.tolist()))\n",
        "    \n",
        "    X_train =  X_train_en_df.join(X_train.select_dtypes(exclude=['object']))\n",
        "\n",
        "\n",
        "    # Join dummy values with numerical features\n",
        "    \n",
        "    X_test_en_df = pd.DataFrame(X_test_en,\n",
        "                                      index=X_test.index,\n",
        "                                      columns=OHT.get_feature_names_out(X_test_cat.columns.tolist()))\n",
        "    \n",
        "    X_test =  X_test_en_df.join(X_test.select_dtypes(exclude=['object']))\n",
        "\n",
        "\n",
        "    \n",
        "    \n",
        "    \n",
        "    return X_train, X_test\n",
        "\n",
        "  def log_trans(self, df):\n",
        "    df[LR_model.log_trans_feature] =  df[LR_model.log_trans_feature].apply(np.log)\n",
        "\n",
        "    return df\n",
        "  \n",
        "  def sqrt_trans(self,df):\n",
        "    df[LR_model.sqrt_trans_features] =  df[LR_model.sqrt_trans_features].apply(np.sqrt)\n",
        "    \n",
        "    return df\n",
        "\n",
        "\n",
        "  def apply_stand_scaling(self, X_train, X_test):\n",
        "\n",
        "    \"\"\" \n",
        "      Applies standard scaling for all numerical features\n",
        "     \"\"\"\n",
        "\n",
        "    scaler = StandardScaler()\n",
        "\n",
        "    #filter numerical features only(excluding binary values)\n",
        "\n",
        "    float_features = X_train.columns[~X_train.isin([0,1]).all()].tolist()\n",
        "\n",
        "    # Fit and transform. \n",
        "\n",
        "\n",
        "    X_train[float_features] = scaler.fit_transform(X_train[float_features])\n",
        "\n",
        "    X_test[float_features] = scaler.transform(X_test[float_features])\n",
        "\n",
        "    return X_train, X_test\n",
        "\n",
        "    \n",
        "  def add_pf(self, X_train, X_test, degree=None):\n",
        "\n",
        "        \"\"\" Adds polynomial features into the dataset\n",
        "        \"\"\"\n",
        "        \n",
        "        PF = PolynomialFeatures(degree=degree, include_bias=False)\n",
        "\n",
        "        # Filter numerical features only (excluding binary values)\n",
        "        float_cols = X_train.columns[~X_train.isin([0,1]).all()].tolist()\n",
        "\n",
        "        # Fit features in traning set and transform to test set\n",
        "        X_train_pf = PF.fit_transform(X_train[float_cols])\n",
        "        X_test_pf = PF.transform(X_test[float_cols])\n",
        "        \n",
        "        # Add non-numerical features back into the transformed training set\n",
        "        X_train_pf_df = pd.DataFrame(X_train_pf,\n",
        "                                     index=X_train.index,\n",
        "                                     columns=PF.get_feature_names(input_features=float_cols))\n",
        "        X_train = X_train_pf_df.join(X_train[X_train.columns[~X_train.columns.isin(float_cols)].tolist()])\n",
        "        \n",
        "       # Add non-numerical features back into the transformed test set\n",
        "        X_test_pf_df = pd.DataFrame(X_test_pf,\n",
        "                                    index=X_test.index,\n",
        "                                    columns=PF.get_feature_names(input_features=float_cols))\n",
        "        X_test = X_test_pf_df.join(X_test[X_test.columns[~X_test.columns.isin(float_cols)].tolist()])\n",
        "        \n",
        "        return X_train, X_test\n",
        "  \n",
        "  def rmse(self, y_true, y_predicted):\n",
        "\n",
        "    \"\"\" Returns root mean squared error\"\"\"\n",
        "    return np.sqrt(mean_squared_error(y_true, y_predicted))\n",
        "\n",
        "  \n",
        "  def model_fit(self, label=None,\n",
        "                    encoding=False,\n",
        "                    squareroot=False,\n",
        "                    logtransform = False,\n",
        "                    scaling=False,\n",
        "                    polynomial=False,\n",
        "                    degree=None):\n",
        "          \n",
        "          \"\"\" Fits linear regression model and returns \n",
        "          RMSE of training set and test set\n",
        "          \"\"\"\n",
        "\n",
        "          # Split data\n",
        "          train, test = self.clean_data(self.train), self.clean_data(self.test)\n",
        "          X_train, X_test = train.drop(LR_model.target, axis=1), test.drop(LR_model.target, axis=1)\n",
        "          y_train, y_test = train[LR_model.target], test[LR_model.target]\n",
        "\n",
        "          # Perform feature engineering\n",
        "          if encoding:\n",
        "              X_train, X_test = self.one_hot_enc(X_train, X_test)\n",
        "\n",
        "          if not encoding:\n",
        "            X_train, X_test = X_train.select_dtypes(exclude=['object']), X_test.select_dtypes(exclude=['object'])\n",
        "\n",
        "          if squareroot:\n",
        "              X_train, X_test = self.sqrt_trans(X_train), self.sqrt_trans(X_test)\n",
        "          \n",
        "          if logtransform:\n",
        "            X_train, X_test = self.log_trans(X_train), self.log_trans(X_test)\n",
        "\n",
        "          if scaling:\n",
        "              X_train, X_test = self.apply_stand_scaling(X_train, X_test)\n",
        "          \n",
        "          if polynomial:\n",
        "              X_train, X_test = self.add_pf(X_train, X_test, degree)\n",
        "          \n",
        "          num_features = X_train.shape[1]\n",
        "          # Fit model and predict the target\n",
        "          LR = LinearRegression()\n",
        "          LR.fit(X_train, y_train)\n",
        "          y_train_pred = LR.predict(X_train)\n",
        "          y_test_pred = LR.predict(X_test)\n",
        "          \n",
        "          # Compute RMSE and store in a dictionary\n",
        "          rmse_train = self.rmse(y_train, y_train_pred)\n",
        "          rmse_test = self.rmse(y_test,  y_test_pred)\n",
        "          scores = {\n",
        "              'Model': label,\n",
        "              'Number of features': num_features,\n",
        "              'RMSE train': rmse_train,\n",
        "              'RMSE test': rmse_test\n",
        "          }\n",
        "          \n",
        "          return scores\n",
        "\n",
        "    \n",
        "\n"
      ],
      "execution_count": 165,
      "outputs": []
    },
    {
      "cell_type": "markdown",
      "metadata": {
        "id": "F-3CZnTY3IPU"
      },
      "source": [
        "**fit_transform and transform**\n",
        "\n",
        "We use fit_transform() on the train data so that we learn the parameters of scaling on the train data and in the same time we scale the train data. We only use transform() on the test data because we use the scaling paramaters learned on the train data to scale the test data.\n",
        "\n",
        "fit_transform() is used on the training data so that we can scale the training data and also learn the scaling parameters of that data. Here, the model built by us will learn the mean and variance of the features of the training set. These learned parameters are then used to scale our test data.\n",
        "\n",
        "Using the transform method we can use the same mean and variance as it is calculated from our training data to transform our test data. Thus, the parameters learned by our model using the training data will help us to transform our test data."
      ]
    },
    {
      "cell_type": "code",
      "metadata": {
        "colab": {
          "base_uri": "https://localhost:8080/"
        },
        "id": "4_lCyVQ-ToxI",
        "outputId": "26055431-be62-47f2-ba93-218c1aa3cb30"
      },
      "source": [
        "df = train_val.copy()\n",
        "df.shape"
      ],
      "execution_count": 166,
      "outputs": [
        {
          "output_type": "execute_result",
          "data": {
            "text/plain": [
              "(14248, 9)"
            ]
          },
          "metadata": {},
          "execution_count": 166
        }
      ]
    },
    {
      "cell_type": "markdown",
      "metadata": {
        "id": "kW5efI_OTn-B"
      },
      "source": [
        "**Apply One-hot encoding**"
      ]
    },
    {
      "cell_type": "markdown",
      "metadata": {
        "id": "2od94T8pzW-_"
      },
      "source": [
        "**One-Hot-Encoding and label encoding**\n",
        "\n",
        "Label Encoding is a popular encoding technique for handling categorical variables. In this technique, each label is assigned a unique integer based on alphabetical ordering.\n",
        "\n",
        "\n",
        "One-Hot Encoding is another popular technique for treating categorical variables. It simply creates additional features based on the number of unique values in the categorical feature. Every unique value in the category will be added as a feature.\n",
        "\n",
        "One-Hot Encoding is the process of creating dummy variables. In this encoding technique, each category is represented as a one-hot vector. \n",
        "\n"
      ]
    },
    {
      "cell_type": "code",
      "metadata": {
        "colab": {
          "base_uri": "https://localhost:8080/",
          "height": 112
        },
        "id": "bUNg0ywqP8yy",
        "outputId": "e31c7393-152f-499f-ab53-7d8a3f870c9a"
      },
      "source": [
        "# Fit LR model in each set and print out RMSE\n",
        "error_df = [] # Blank error list to create a data frame later\n",
        "\n",
        "# Fit non-encoded data\n",
        "not_enc = LR_model(df).model_fit(label='not encoded')\n",
        "\n",
        "# Fit encoded data\n",
        "enc = LR_model(df).model_fit(label='one hot encoded', encoding=True)\n",
        "\n",
        "# Print out error table\n",
        "error_df = pd.DataFrame.from_dict([not_enc])\n",
        "error_df = error_df.append(enc, ignore_index=True)\n",
        "error_df"
      ],
      "execution_count": 167,
      "outputs": [
        {
          "output_type": "execute_result",
          "data": {
            "text/html": [
              "<div>\n",
              "<style scoped>\n",
              "    .dataframe tbody tr th:only-of-type {\n",
              "        vertical-align: middle;\n",
              "    }\n",
              "\n",
              "    .dataframe tbody tr th {\n",
              "        vertical-align: top;\n",
              "    }\n",
              "\n",
              "    .dataframe thead th {\n",
              "        text-align: right;\n",
              "    }\n",
              "</style>\n",
              "<table border=\"1\" class=\"dataframe\">\n",
              "  <thead>\n",
              "    <tr style=\"text-align: right;\">\n",
              "      <th></th>\n",
              "      <th>Model</th>\n",
              "      <th>Number of features</th>\n",
              "      <th>RMSE train</th>\n",
              "      <th>RMSE test</th>\n",
              "    </tr>\n",
              "  </thead>\n",
              "  <tbody>\n",
              "    <tr>\n",
              "      <th>0</th>\n",
              "      <td>not encoded</td>\n",
              "      <td>5</td>\n",
              "      <td>2417.704702</td>\n",
              "      <td>2433.946482</td>\n",
              "    </tr>\n",
              "    <tr>\n",
              "      <th>1</th>\n",
              "      <td>one hot encoded</td>\n",
              "      <td>35</td>\n",
              "      <td>1820.622688</td>\n",
              "      <td>1834.399643</td>\n",
              "    </tr>\n",
              "  </tbody>\n",
              "</table>\n",
              "</div>"
            ],
            "text/plain": [
              "             Model  Number of features   RMSE train    RMSE test\n",
              "0      not encoded                   5  2417.704702  2433.946482\n",
              "1  one hot encoded                  35  1820.622688  1834.399643"
            ]
          },
          "metadata": {},
          "execution_count": 167
        }
      ]
    },
    {
      "cell_type": "markdown",
      "metadata": {
        "id": "SMh5GpgJTyyW"
      },
      "source": [
        "**Apply Square root and Log transformation**"
      ]
    },
    {
      "cell_type": "code",
      "metadata": {
        "colab": {
          "base_uri": "https://localhost:8080/",
          "height": 175
        },
        "id": "_L8agbD8Nmln",
        "outputId": "d1305e1a-b833-47af-a9a3-eccddb776251"
      },
      "source": [
        "# Fit non-encoded data\n",
        "not_enc_bc = LR_model(df).model_fit(label='not encoded + squareroot + logtransform', squareroot=True, logtransform=True)\n",
        "\n",
        "# Fit encoded data\n",
        "enc_bc = LR_model(df).model_fit(label='one hot encoded + squareroot + logtransform', encoding=True, squareroot=True, logtransform=True)\n",
        "\n",
        "# Print out error table\n",
        "error_df = error_df.append([not_enc_bc, enc_bc], ignore_index=True)\n",
        "error_df"
      ],
      "execution_count": 168,
      "outputs": [
        {
          "output_type": "execute_result",
          "data": {
            "text/html": [
              "<div>\n",
              "<style scoped>\n",
              "    .dataframe tbody tr th:only-of-type {\n",
              "        vertical-align: middle;\n",
              "    }\n",
              "\n",
              "    .dataframe tbody tr th {\n",
              "        vertical-align: top;\n",
              "    }\n",
              "\n",
              "    .dataframe thead th {\n",
              "        text-align: right;\n",
              "    }\n",
              "</style>\n",
              "<table border=\"1\" class=\"dataframe\">\n",
              "  <thead>\n",
              "    <tr style=\"text-align: right;\">\n",
              "      <th></th>\n",
              "      <th>Model</th>\n",
              "      <th>Number of features</th>\n",
              "      <th>RMSE train</th>\n",
              "      <th>RMSE test</th>\n",
              "    </tr>\n",
              "  </thead>\n",
              "  <tbody>\n",
              "    <tr>\n",
              "      <th>0</th>\n",
              "      <td>not encoded</td>\n",
              "      <td>5</td>\n",
              "      <td>2417.704702</td>\n",
              "      <td>2433.946482</td>\n",
              "    </tr>\n",
              "    <tr>\n",
              "      <th>1</th>\n",
              "      <td>one hot encoded</td>\n",
              "      <td>35</td>\n",
              "      <td>1820.622688</td>\n",
              "      <td>1834.399643</td>\n",
              "    </tr>\n",
              "    <tr>\n",
              "      <th>2</th>\n",
              "      <td>not encoded + squareroot + logtransform</td>\n",
              "      <td>5</td>\n",
              "      <td>2384.505913</td>\n",
              "      <td>2453.595561</td>\n",
              "    </tr>\n",
              "    <tr>\n",
              "      <th>3</th>\n",
              "      <td>one hot encoded + squareroot + logtransform</td>\n",
              "      <td>35</td>\n",
              "      <td>1680.625130</td>\n",
              "      <td>1737.315820</td>\n",
              "    </tr>\n",
              "  </tbody>\n",
              "</table>\n",
              "</div>"
            ],
            "text/plain": [
              "                                         Model  ...    RMSE test\n",
              "0                                  not encoded  ...  2433.946482\n",
              "1                              one hot encoded  ...  1834.399643\n",
              "2      not encoded + squareroot + logtransform  ...  2453.595561\n",
              "3  one hot encoded + squareroot + logtransform  ...  1737.315820\n",
              "\n",
              "[4 rows x 4 columns]"
            ]
          },
          "metadata": {},
          "execution_count": 168
        }
      ]
    },
    {
      "cell_type": "markdown",
      "metadata": {
        "id": "xP-DJT4UTYm1"
      },
      "source": [
        "The transformation improves all models. The one that has encoded features is the best so far."
      ]
    },
    {
      "cell_type": "markdown",
      "metadata": {
        "id": "n1g41tTWVRCl"
      },
      "source": [
        "**Apply Standard scaling**"
      ]
    },
    {
      "cell_type": "code",
      "metadata": {
        "colab": {
          "base_uri": "https://localhost:8080/",
          "height": 206
        },
        "id": "RLlpM1qXTgiI",
        "outputId": "cf51e5bb-5973-496f-f651-a687177831b7"
      },
      "source": [
        "# Fit encoded data\n",
        "enc_bc_s = LR_model(df).model_fit(label='one hot encoded + squareroot + logtransform + scaled', encoding=True, squareroot=True, logtransform=True, scaling=True)\n",
        "\n",
        "# Print out error table\n",
        "error_df = error_df.append(enc_bc_s, ignore_index=True)\n",
        "error_df"
      ],
      "execution_count": 169,
      "outputs": [
        {
          "output_type": "execute_result",
          "data": {
            "text/html": [
              "<div>\n",
              "<style scoped>\n",
              "    .dataframe tbody tr th:only-of-type {\n",
              "        vertical-align: middle;\n",
              "    }\n",
              "\n",
              "    .dataframe tbody tr th {\n",
              "        vertical-align: top;\n",
              "    }\n",
              "\n",
              "    .dataframe thead th {\n",
              "        text-align: right;\n",
              "    }\n",
              "</style>\n",
              "<table border=\"1\" class=\"dataframe\">\n",
              "  <thead>\n",
              "    <tr style=\"text-align: right;\">\n",
              "      <th></th>\n",
              "      <th>Model</th>\n",
              "      <th>Number of features</th>\n",
              "      <th>RMSE train</th>\n",
              "      <th>RMSE test</th>\n",
              "    </tr>\n",
              "  </thead>\n",
              "  <tbody>\n",
              "    <tr>\n",
              "      <th>0</th>\n",
              "      <td>not encoded</td>\n",
              "      <td>5</td>\n",
              "      <td>2417.704702</td>\n",
              "      <td>2433.946482</td>\n",
              "    </tr>\n",
              "    <tr>\n",
              "      <th>1</th>\n",
              "      <td>one hot encoded</td>\n",
              "      <td>35</td>\n",
              "      <td>1820.622688</td>\n",
              "      <td>1834.399643</td>\n",
              "    </tr>\n",
              "    <tr>\n",
              "      <th>2</th>\n",
              "      <td>not encoded + squareroot + logtransform</td>\n",
              "      <td>5</td>\n",
              "      <td>2384.505913</td>\n",
              "      <td>2453.595561</td>\n",
              "    </tr>\n",
              "    <tr>\n",
              "      <th>3</th>\n",
              "      <td>one hot encoded + squareroot + logtransform</td>\n",
              "      <td>35</td>\n",
              "      <td>1680.625130</td>\n",
              "      <td>1737.315820</td>\n",
              "    </tr>\n",
              "    <tr>\n",
              "      <th>4</th>\n",
              "      <td>one hot encoded + squareroot + logtransform + ...</td>\n",
              "      <td>35</td>\n",
              "      <td>1680.695526</td>\n",
              "      <td>1737.270159</td>\n",
              "    </tr>\n",
              "  </tbody>\n",
              "</table>\n",
              "</div>"
            ],
            "text/plain": [
              "                                               Model  ...    RMSE test\n",
              "0                                        not encoded  ...  2433.946482\n",
              "1                                    one hot encoded  ...  1834.399643\n",
              "2            not encoded + squareroot + logtransform  ...  2453.595561\n",
              "3        one hot encoded + squareroot + logtransform  ...  1737.315820\n",
              "4  one hot encoded + squareroot + logtransform + ...  ...  1737.270159\n",
              "\n",
              "[5 rows x 4 columns]"
            ]
          },
          "metadata": {},
          "execution_count": 169
        }
      ]
    },
    {
      "cell_type": "markdown",
      "metadata": {
        "id": "-L7X01-pVrUZ"
      },
      "source": [
        "**Add Polynomial features**"
      ]
    },
    {
      "cell_type": "code",
      "metadata": {
        "colab": {
          "base_uri": "https://localhost:8080/",
          "height": 206
        },
        "id": "INxk0135Vsc1",
        "outputId": "f2213cb4-06b2-4c39-deb3-72139ced0196"
      },
      "source": [
        "# Create blank error table\n",
        "error_pf_df = pd.DataFrame(columns=['Model', 'Number of features', 'RMSE train', 'RMSE test'])\n",
        "\n",
        "# Iterate different degree, 1 to 5\n",
        "for d in list(range(1,6)):\n",
        "    error = LR_model(df).model_fit(label=f'Degree = {d}', encoding=True,squareroot=True, logtransform=True, scaling=True, polynomial=True, degree=d)\n",
        "    error_pf_df = error_pf_df.append(error, ignore_index=True)\n",
        "\n",
        "# Print out the error table\n",
        "error_pf_df"
      ],
      "execution_count": 174,
      "outputs": [
        {
          "output_type": "execute_result",
          "data": {
            "text/html": [
              "<div>\n",
              "<style scoped>\n",
              "    .dataframe tbody tr th:only-of-type {\n",
              "        vertical-align: middle;\n",
              "    }\n",
              "\n",
              "    .dataframe tbody tr th {\n",
              "        vertical-align: top;\n",
              "    }\n",
              "\n",
              "    .dataframe thead th {\n",
              "        text-align: right;\n",
              "    }\n",
              "</style>\n",
              "<table border=\"1\" class=\"dataframe\">\n",
              "  <thead>\n",
              "    <tr style=\"text-align: right;\">\n",
              "      <th></th>\n",
              "      <th>Model</th>\n",
              "      <th>Number of features</th>\n",
              "      <th>RMSE train</th>\n",
              "      <th>RMSE test</th>\n",
              "    </tr>\n",
              "  </thead>\n",
              "  <tbody>\n",
              "    <tr>\n",
              "      <th>0</th>\n",
              "      <td>Degree = 1</td>\n",
              "      <td>35</td>\n",
              "      <td>1680.623756</td>\n",
              "      <td>1737.359928</td>\n",
              "    </tr>\n",
              "    <tr>\n",
              "      <th>1</th>\n",
              "      <td>Degree = 2</td>\n",
              "      <td>50</td>\n",
              "      <td>1554.712864</td>\n",
              "      <td>1598.567575</td>\n",
              "    </tr>\n",
              "    <tr>\n",
              "      <th>2</th>\n",
              "      <td>Degree = 3</td>\n",
              "      <td>85</td>\n",
              "      <td>1505.880669</td>\n",
              "      <td>1563.453971</td>\n",
              "    </tr>\n",
              "    <tr>\n",
              "      <th>3</th>\n",
              "      <td>Degree = 4</td>\n",
              "      <td>155</td>\n",
              "      <td>1400.264681</td>\n",
              "      <td>1720.726510</td>\n",
              "    </tr>\n",
              "    <tr>\n",
              "      <th>4</th>\n",
              "      <td>Degree = 5</td>\n",
              "      <td>281</td>\n",
              "      <td>1325.452093</td>\n",
              "      <td>3848.721851</td>\n",
              "    </tr>\n",
              "  </tbody>\n",
              "</table>\n",
              "</div>"
            ],
            "text/plain": [
              "        Model Number of features   RMSE train    RMSE test\n",
              "0  Degree = 1                 35  1680.623756  1737.359928\n",
              "1  Degree = 2                 50  1554.712864  1598.567575\n",
              "2  Degree = 3                 85  1505.880669  1563.453971\n",
              "3  Degree = 4                155  1400.264681  1720.726510\n",
              "4  Degree = 5                281  1325.452093  3848.721851"
            ]
          },
          "metadata": {},
          "execution_count": 174
        }
      ]
    },
    {
      "cell_type": "code",
      "metadata": {
        "colab": {
          "base_uri": "https://localhost:8080/",
          "height": 302
        },
        "id": "rd9J24VdYwI2",
        "outputId": "95182f83-297f-4dc8-9742-d6d895b4706f"
      },
      "source": [
        "plt.plot(range(1,6), error_pf_df['RMSE train'])\n",
        "plt.plot(range(1,6),error_pf_df['RMSE test'])\n",
        "plt.xlabel(\"Polynomial Complexity\")\n",
        "plt.ylabel(\"RMSE\")\n",
        "\n",
        "plt.legend()\n",
        "plt.show()"
      ],
      "execution_count": 175,
      "outputs": [
        {
          "output_type": "stream",
          "name": "stderr",
          "text": [
            "No handles with labels found to put in legend.\n"
          ]
        },
        {
          "output_type": "display_data",
          "data": {
            "image/png": "[encoded data removed]",
            "text/plain": [
              "<Figure size 432x288 with 1 Axes>"
            ]
          },
          "metadata": {
            "needs_background": "light"
          }
        }
      ]
    },
    {
      "cell_type": "markdown",
      "metadata": {
        "id": "YcHNPvkWdb0L"
      },
      "source": [
        "As we can see in the graph above, it looks like the third polynomial degree transformation returns the best model. At degree 4 and above, as the model gets more and more complex, it starts overfitting."
      ]
    },
    {
      "cell_type": "markdown",
      "metadata": {
        "id": "T6z3mXkGXUwv"
      },
      "source": [
        "# 4. Cross-validation and Regularization"
      ]
    },
    {
      "cell_type": "code",
      "metadata": {
        "id": "bqpkyK1OXfi4"
      },
      "source": [
        "# Import libraries\n",
        "from sklearn.linear_model import Lasso, Ridge, ElasticNet\n",
        "from sklearn.model_selection import KFold, cross_val_score\n",
        "from sklearn.preprocessing import FunctionTransformer\n",
        "from sklearn.pipeline import make_pipeline\n",
        "from sklearn_pandas import DataFrameMapper, gen_features"
      ],
      "execution_count": 16,
      "outputs": []
    },
    {
      "cell_type": "code",
      "metadata": {
        "id": "psWXDMPVXkEL"
      },
      "source": [
        "# 5-fold cross validation\n",
        "kf = KFold(shuffle=True, random_state=0, n_splits=5)"
      ],
      "execution_count": 12,
      "outputs": []
    },
    {
      "cell_type": "markdown",
      "metadata": {
        "id": "OlH-GpEqd2iU"
      },
      "source": [
        "**Kfold:** The procedure has a single parameter called k that refers to the number of groups that a given data sample is to be split into. As such, the procedure is often called k-fold cross-validation. When a specific value for k is chosen, it may be used in place of k in the reference to the model, such as k=10 becoming 10-fold cross-validation."
      ]
    },
    {
      "cell_type": "code",
      "metadata": {
        "id": "-JQb6Bkud1ia"
      },
      "source": [
        "df['age'] = 2021 - df['year']\n",
        "\n",
        "#Removing outlier from age\n",
        "if df[df['age'] == -39].index > 0:\n",
        "  df.drop(index= df[df['age'] == -39].index, axis=1, inplace= True)\n",
        "\n",
        "df = df.drop(['year'], axis=1)\n",
        "df['model'] = df['model'].str.strip(' ')\n",
        "\n",
        "X = df.drop('price', axis=1)\n",
        "y = df['price']"
      ],
      "execution_count": 13,
      "outputs": []
    },
    {
      "cell_type": "code",
      "metadata": {
        "id": "uv9I4Oa8eFNv"
      },
      "source": [
        "# Create a class for data pipeline\n",
        "class XPipe:\n",
        "  sqrt_trans_features = ['engineSize', 'mileage']\n",
        "  log_trans_feature = ['age']\n",
        "\n",
        "  def __init__(self, X):\n",
        "    self.cat_cols = X.select_dtypes(include=['object']).columns.tolist()\n",
        "    self.num_cols = X.select_dtypes(exclude=['object']).columns.tolist()\n",
        "\n",
        "  \n",
        "  def drop_first(self, cat_values):\n",
        "\n",
        "    \"\"\" Drops one category after one-hot encoding\"\"\"\n",
        "\n",
        "    dummy_df = pd.DataFrame(cat_values)\n",
        "    dummy_df = dummy_df.drop(0, axis=1)\n",
        "\n",
        "    return dummy_df.values\n",
        "\n",
        "\n",
        "  def sqrt_trans(self, num_values):\n",
        "\n",
        "    \"\"\" Applies square root transformation to skewed features\"\"\"\n",
        "\n",
        "    num_df = pd.DataFrame(num_values, columns=self.num_cols)\n",
        "    num_df[XPipe.sqrt_trans_features] = num_df[XPipe.sqrt_trans_features].apply(np.sqrt)\n",
        "    \n",
        "    return num_df.values\n",
        "\n",
        "  def log_trans(self, num_values):\n",
        "\n",
        "    \"\"\" Applies square root transformation to skewed features\"\"\"\n",
        "\n",
        "    num_df = pd.DataFrame(num_values, columns=self.num_cols)\n",
        "    num_df[XPipe.log_trans_feature] = num_df[XPipe.log_trans_feature].apply(np.log)\n",
        "    \n",
        "    return num_df.values\n",
        "  \n",
        "  def model_pipe(self, model, degree=2):\n",
        "\n",
        "     \"\"\" Returns a data pipeline\"\"\"\n",
        "\n",
        "     cat_list = [[col] for col in self.cat_cols]\n",
        "     cat_features = gen_features(\n",
        "         columns=cat_list,\n",
        "         classes=[{'class': OneHotEncoder, 'handle_unknown':'ignore', 'sparse':False},\n",
        "                  {'class': FunctionTransformer, 'func': self.drop_first}]\n",
        "     )\n",
        "\n",
        "\n",
        "\n",
        "     mapper =  DataFrameMapper(cat_features + [\n",
        "            (self.num_cols, [FunctionTransformer(self.sqrt_trans),\n",
        "                             FunctionTransformer(self.log_trans),\n",
        "                             StandardScaler(),\n",
        "                             PolynomialFeatures(degree=degree, include_bias=False)])                                   \n",
        "     ])\n",
        "     return make_pipeline(mapper, model)\n",
        "\n"
      ],
      "execution_count": 14,
      "outputs": []
    },
    {
      "cell_type": "code",
      "metadata": {
        "colab": {
          "base_uri": "https://localhost:8080/"
        },
        "id": "oVulZJrJkvro",
        "outputId": "ddc7e734-c54f-4a57-fdf3-612171b9b364"
      },
      "source": [
        "XPipe(X).model_pipe(LinearRegression())"
      ],
      "execution_count": 18,
      "outputs": [
        {
          "output_type": "execute_result",
          "data": {
            "text/plain": [
              "Pipeline(steps=[('dataframemapper',\n",
              "                 DataFrameMapper(features=[(['model'],\n",
              "                                            [OneHotEncoder(handle_unknown='ignore',\n",
              "                                                           sparse=False),\n",
              "                                             FunctionTransformer(func=<bound method XPipe.drop_first of <__main__.XPipe object at 0x7fb21aeb0350>>)]),\n",
              "                                           (['transmission'],\n",
              "                                            [OneHotEncoder(handle_unknown='ignore',\n",
              "                                                           sparse=False),\n",
              "                                             FunctionTransformer(func=<bound method XPipe.drop_first of <...\n",
              "                                             FunctionTransformer(func=<bound method XPipe.drop_first of <__main__.XPipe object at 0x7fb21aeb0350>>)]),\n",
              "                                           (['mileage', 'tax', 'mpg',\n",
              "                                             'engineSize', 'age'],\n",
              "                                            [FunctionTransformer(func=<bound method XPipe.sqrt_trans of <__main__.XPipe object at 0x7fb21aeb0350>>),\n",
              "                                             FunctionTransformer(func=<bound method XPipe.log_trans of <__main__.XPipe object at 0x7fb21aeb0350>>),\n",
              "                                             StandardScaler(),\n",
              "                                             PolynomialFeatures(include_bias=False)])])),\n",
              "                ('linearregression', LinearRegression())])"
            ]
          },
          "metadata": {},
          "execution_count": 18
        }
      ]
    },
    {
      "cell_type": "code",
      "metadata": {
        "id": "4zgk8pq6k_ZB"
      },
      "source": [
        "# Create a blank dictionary to store metrics of different models\n",
        "metrics = {}"
      ],
      "execution_count": 40,
      "outputs": []
    },
    {
      "cell_type": "markdown",
      "metadata": {
        "id": "UJpCfjJKow0U"
      },
      "source": [
        "**Linear Regression**"
      ]
    },
    {
      "cell_type": "markdown",
      "metadata": {
        "id": "1UL5wEYIo2Wf"
      },
      "source": [
        "In the train test split part, adding the third degree polynomial features returns the best model. Let's see if cross-validation returns different results."
      ]
    },
    {
      "cell_type": "code",
      "metadata": {
        "colab": {
          "base_uri": "https://localhost:8080/",
          "height": 206
        },
        "id": "DrkptFHmot5_",
        "outputId": "f04c09f2-d129-4e8e-df2c-0794aa8cfa8b"
      },
      "source": [
        "# Blank dictionary to add in metrics\n",
        "lr_scores = {}\n",
        "\n",
        "#Iterate over different degrees, 1 to 5\n",
        "for d in list(range(1,6)):\n",
        "    score = cross_val_score(XPipe(X)\n",
        "                            .model_pipe(LinearRegression(), degree=d),\n",
        "                            X, y, cv=kf, scoring='neg_mean_squared_error')\n",
        "    lr_scores[f'Degree = {d}'] = np.mean(np.sqrt(-score))\n",
        "\n",
        "# Create an error table and print it out\n",
        "lr_rmse = pd.DataFrame.from_dict(lr_scores, orient='index', columns=['Average RMSE']).sort_values('Average RMSE')\n",
        "lr_rmse"
      ],
      "execution_count": 20,
      "outputs": [
        {
          "output_type": "execute_result",
          "data": {
            "text/html": [
              "<div>\n",
              "<style scoped>\n",
              "    .dataframe tbody tr th:only-of-type {\n",
              "        vertical-align: middle;\n",
              "    }\n",
              "\n",
              "    .dataframe tbody tr th {\n",
              "        vertical-align: top;\n",
              "    }\n",
              "\n",
              "    .dataframe thead th {\n",
              "        text-align: right;\n",
              "    }\n",
              "</style>\n",
              "<table border=\"1\" class=\"dataframe\">\n",
              "  <thead>\n",
              "    <tr style=\"text-align: right;\">\n",
              "      <th></th>\n",
              "      <th>Average RMSE</th>\n",
              "    </tr>\n",
              "  </thead>\n",
              "  <tbody>\n",
              "    <tr>\n",
              "      <th>Degree = 3</th>\n",
              "      <td>1577.884535</td>\n",
              "    </tr>\n",
              "    <tr>\n",
              "      <th>Degree = 2</th>\n",
              "      <td>1587.539071</td>\n",
              "    </tr>\n",
              "    <tr>\n",
              "      <th>Degree = 1</th>\n",
              "      <td>1719.477842</td>\n",
              "    </tr>\n",
              "    <tr>\n",
              "      <th>Degree = 4</th>\n",
              "      <td>1922.327139</td>\n",
              "    </tr>\n",
              "    <tr>\n",
              "      <th>Degree = 5</th>\n",
              "      <td>7369.412361</td>\n",
              "    </tr>\n",
              "  </tbody>\n",
              "</table>\n",
              "</div>"
            ],
            "text/plain": [
              "            Average RMSE\n",
              "Degree = 3   1577.884535\n",
              "Degree = 2   1587.539071\n",
              "Degree = 1   1719.477842\n",
              "Degree = 4   1922.327139\n",
              "Degree = 5   7369.412361"
            ]
          },
          "metadata": {},
          "execution_count": 20
        }
      ]
    },
    {
      "cell_type": "code",
      "metadata": {
        "colab": {
          "base_uri": "https://localhost:8080/",
          "height": 302
        },
        "id": "o2jkpxXovsAT",
        "outputId": "d7fdea40-dc5d-4e06-a626-a1e2aa71f0ce"
      },
      "source": [
        "plt.plot(range(1,6), lr_rmse['Average RMSE'])\n",
        "plt.xlabel(\"Polynomial Complexity\")\n",
        "plt.ylabel(\"RMSE\")\n",
        "\n",
        "plt.legend()\n",
        "plt.show()"
      ],
      "execution_count": 21,
      "outputs": [
        {
          "output_type": "stream",
          "name": "stderr",
          "text": [
            "No handles with labels found to put in legend.\n"
          ]
        },
        {
          "output_type": "display_data",
          "data": {
            "image/png": "[encoded data removed]",
            "text/plain": [
              "<Figure size 432x288 with 1 Axes>"
            ]
          },
          "metadata": {
            "needs_background": "light"
          }
        }
      ]
    },
    {
      "cell_type": "markdown",
      "metadata": {
        "id": "9X7h4beBxa6a"
      },
      "source": [
        "Although  the degree 4 has the better Average RMSE, we should get degree 3 since the diference is not bigget and it add's lower risk to out model."
      ]
    },
    {
      "cell_type": "code",
      "metadata": {
        "colab": {
          "base_uri": "https://localhost:8080/"
        },
        "id": "v1tOnAoLxgUc",
        "outputId": "03a0f38c-577e-42cc-9f7a-e3939153de03"
      },
      "source": [
        "# Calculate average R squared\n",
        "lr_r2_scores = cross_val_score(XPipe(X)\n",
        "                              .model_pipe(LinearRegression(), degree=3),\n",
        "                              X, y, cv=kf)\n",
        "lr_r2_scores"
      ],
      "execution_count": 22,
      "outputs": [
        {
          "output_type": "execute_result",
          "data": {
            "text/plain": [
              "array([0.86802778, 0.89190569, 0.90545006, 0.88335002, 0.89439924])"
            ]
          },
          "metadata": {},
          "execution_count": 22
        }
      ]
    },
    {
      "cell_type": "code",
      "metadata": {
        "id": "xLQRjW4ixnyM"
      },
      "source": [
        "# Store the metrics\n",
        "metrics['Average RMSE'] = [lr_rmse['Average RMSE'].values[0]]\n",
        "metrics['Average R2'] = [np.mean(lr_r2_scores)]"
      ],
      "execution_count": 41,
      "outputs": []
    },
    {
      "cell_type": "markdown",
      "metadata": {
        "id": "rHyINS0Vx7A_"
      },
      "source": [
        "**Ridge Regression (L2)**"
      ]
    },
    {
      "cell_type": "markdown",
      "metadata": {
        "id": "Dygd6PQIyeTp"
      },
      "source": [
        "L2 regularization adds a penalty equal to the square of the magnitude of coefficients. \n",
        "All coefficients are shrunk by the same factor.\n",
        "Does not necessarily eliminate coefficients.\n"
      ]
    },
    {
      "cell_type": "code",
      "metadata": {
        "colab": {
          "base_uri": "https://localhost:8080/",
          "height": 206
        },
        "id": "DsW723cUx2B8",
        "outputId": "fc8c461f-e1fa-45f9-a55c-3bcd8a7c71fe"
      },
      "source": [
        "# Blank dictionary to add in metrics\n",
        "ridge_scores = {}\n",
        "\n",
        "# Iterate over different alphas\n",
        "for d in [1, 2, 3]:\n",
        "    for a in [0.005, 0.01, 0.05, 0.1, 0.3, 1, 3, 5, 10]:\n",
        "        score = cross_val_score(XPipe(X)\n",
        "                                .model_pipe(Ridge(alpha=a, max_iter=100000), degree=d),\n",
        "                                X, y, cv=kf, scoring='neg_mean_squared_error')\n",
        "\n",
        "                                \n",
        "        ridge_scores[f'Degree = {d}, alpha = {a}'] = np.mean(np.sqrt(-score))\n",
        "\n",
        "# Create an error table and print it out (first 5 rows)\n",
        "ridge_rmse = pd.DataFrame.from_dict(ridge_scores, orient='index', columns=['Average RMSE']).sort_values('Average RMSE')\n",
        "ridge_rmse.head(5)"
      ],
      "execution_count": 24,
      "outputs": [
        {
          "output_type": "execute_result",
          "data": {
            "text/html": [
              "<div>\n",
              "<style scoped>\n",
              "    .dataframe tbody tr th:only-of-type {\n",
              "        vertical-align: middle;\n",
              "    }\n",
              "\n",
              "    .dataframe tbody tr th {\n",
              "        vertical-align: top;\n",
              "    }\n",
              "\n",
              "    .dataframe thead th {\n",
              "        text-align: right;\n",
              "    }\n",
              "</style>\n",
              "<table border=\"1\" class=\"dataframe\">\n",
              "  <thead>\n",
              "    <tr style=\"text-align: right;\">\n",
              "      <th></th>\n",
              "      <th>Average RMSE</th>\n",
              "    </tr>\n",
              "  </thead>\n",
              "  <tbody>\n",
              "    <tr>\n",
              "      <th>Degree = 3, alpha = 0.1</th>\n",
              "      <td>1577.859921</td>\n",
              "    </tr>\n",
              "    <tr>\n",
              "      <th>Degree = 3, alpha = 0.05</th>\n",
              "      <td>1577.865955</td>\n",
              "    </tr>\n",
              "    <tr>\n",
              "      <th>Degree = 3, alpha = 0.01</th>\n",
              "      <td>1577.879683</td>\n",
              "    </tr>\n",
              "    <tr>\n",
              "      <th>Degree = 3, alpha = 0.005</th>\n",
              "      <td>1577.882034</td>\n",
              "    </tr>\n",
              "    <tr>\n",
              "      <th>Degree = 3, alpha = 0.3</th>\n",
              "      <td>1577.923628</td>\n",
              "    </tr>\n",
              "  </tbody>\n",
              "</table>\n",
              "</div>"
            ],
            "text/plain": [
              "                           Average RMSE\n",
              "Degree = 3, alpha = 0.1     1577.859921\n",
              "Degree = 3, alpha = 0.05    1577.865955\n",
              "Degree = 3, alpha = 0.01    1577.879683\n",
              "Degree = 3, alpha = 0.005   1577.882034\n",
              "Degree = 3, alpha = 0.3     1577.923628"
            ]
          },
          "metadata": {},
          "execution_count": 24
        }
      ]
    },
    {
      "cell_type": "code",
      "metadata": {
        "colab": {
          "base_uri": "https://localhost:8080/"
        },
        "id": "LLDcVeI6z_89",
        "outputId": "09fe2c81-d405-4019-d375-353db4eea1a3"
      },
      "source": [
        "# Calculate average R squared\n",
        "ridge_r2_scores = cross_val_score(XPipe(X)\n",
        "                                  .model_pipe(Ridge(alpha=0.1, max_iter=100000), degree=3),\n",
        "                                  X, y, cv=kf)\n",
        "ridge_r2_scores"
      ],
      "execution_count": 25,
      "outputs": [
        {
          "output_type": "execute_result",
          "data": {
            "text/plain": [
              "array([0.86798257, 0.89192037, 0.90541723, 0.88342465, 0.89440419])"
            ]
          },
          "metadata": {},
          "execution_count": 25
        }
      ]
    },
    {
      "cell_type": "code",
      "metadata": {
        "id": "jWTBJNil0BgG"
      },
      "source": [
        "# Store the metrics\n",
        "metrics['Average RMSE'].append(ridge_rmse['Average RMSE'].values[0])\n",
        "metrics['Average R2'].append(np.mean(ridge_r2_scores))"
      ],
      "execution_count": 42,
      "outputs": []
    },
    {
      "cell_type": "markdown",
      "metadata": {
        "id": "6tPO2PVh0IJc"
      },
      "source": [
        "**Lasso Regression (L1)**"
      ]
    },
    {
      "cell_type": "markdown",
      "metadata": {
        "id": "veuzydOJ0M8j"
      },
      "source": [
        "L1 regularization adds a penalty equal to the absolute value of the magnitude of coefficients. \n",
        "Limits the size of the coefficients. \n",
        "Can yield sparse models where some coefficients can become zero.\n"
      ]
    },
    {
      "cell_type": "code",
      "metadata": {
        "colab": {
          "base_uri": "https://localhost:8080/",
          "height": 206
        },
        "id": "_m_BCsc80JVW",
        "outputId": "887353a4-c94c-452c-9a98-1c1d531364ca"
      },
      "source": [
        "# Blank dictionary to add in metrics\n",
        "las_scores = {}\n",
        "\n",
        "# Iterate over different alphas\n",
        "for d in [1, 2, 3]:\n",
        "    for a in [0.005, 0.01, 0.05, 0.1, 0.3, 1, 3, 5, 10]:\n",
        "        score = cross_val_score(XPipe(X)\n",
        "                                .model_pipe(Lasso(alpha=a, max_iter=100000), degree=d),\n",
        "                                X, y, cv=kf, scoring='neg_mean_squared_error')\n",
        "            \n",
        "        las_scores[f'Degree = {d}, alpha = {a}'] = np.mean(np.sqrt(-score))\n",
        "\n",
        "# Create an error table and print it out (first 5 rows)\n",
        "las_rmse = pd.DataFrame.from_dict(las_scores, orient='index', columns=['Average RMSE']).sort_values('Average RMSE')\n",
        "las_rmse.head(5)"
      ],
      "execution_count": 27,
      "outputs": [
        {
          "output_type": "execute_result",
          "data": {
            "text/html": [
              "<div>\n",
              "<style scoped>\n",
              "    .dataframe tbody tr th:only-of-type {\n",
              "        vertical-align: middle;\n",
              "    }\n",
              "\n",
              "    .dataframe tbody tr th {\n",
              "        vertical-align: top;\n",
              "    }\n",
              "\n",
              "    .dataframe thead th {\n",
              "        text-align: right;\n",
              "    }\n",
              "</style>\n",
              "<table border=\"1\" class=\"dataframe\">\n",
              "  <thead>\n",
              "    <tr style=\"text-align: right;\">\n",
              "      <th></th>\n",
              "      <th>Average RMSE</th>\n",
              "    </tr>\n",
              "  </thead>\n",
              "  <tbody>\n",
              "    <tr>\n",
              "      <th>Degree = 3, alpha = 0.3</th>\n",
              "      <td>1577.177797</td>\n",
              "    </tr>\n",
              "    <tr>\n",
              "      <th>Degree = 3, alpha = 0.1</th>\n",
              "      <td>1577.508264</td>\n",
              "    </tr>\n",
              "    <tr>\n",
              "      <th>Degree = 3, alpha = 0.05</th>\n",
              "      <td>1577.647894</td>\n",
              "    </tr>\n",
              "    <tr>\n",
              "      <th>Degree = 3, alpha = 0.01</th>\n",
              "      <td>1577.828952</td>\n",
              "    </tr>\n",
              "    <tr>\n",
              "      <th>Degree = 3, alpha = 0.005</th>\n",
              "      <td>1577.856233</td>\n",
              "    </tr>\n",
              "  </tbody>\n",
              "</table>\n",
              "</div>"
            ],
            "text/plain": [
              "                           Average RMSE\n",
              "Degree = 3, alpha = 0.3     1577.177797\n",
              "Degree = 3, alpha = 0.1     1577.508264\n",
              "Degree = 3, alpha = 0.05    1577.647894\n",
              "Degree = 3, alpha = 0.01    1577.828952\n",
              "Degree = 3, alpha = 0.005   1577.856233"
            ]
          },
          "metadata": {},
          "execution_count": 27
        }
      ]
    },
    {
      "cell_type": "code",
      "metadata": {
        "colab": {
          "base_uri": "https://localhost:8080/"
        },
        "id": "Oi-qhj2u3Cct",
        "outputId": "7ac44d19-e1fb-4250-a140-b7101536b5b5"
      },
      "source": [
        "# Calculate average R squared\n",
        "las_r2_scores = cross_val_score(XPipe(X)\n",
        "                                .model_pipe(Lasso(alpha=0.3, max_iter=100000), degree=3),\n",
        "                                X, y, cv=kf)\n",
        "las_r2_scores"
      ],
      "execution_count": 38,
      "outputs": [
        {
          "output_type": "execute_result",
          "data": {
            "text/plain": [
              "array([0.86817943, 0.89210291, 0.90522402, 0.88378802, 0.89437074])"
            ]
          },
          "metadata": {},
          "execution_count": 38
        }
      ]
    },
    {
      "cell_type": "code",
      "metadata": {
        "id": "ZysL_zou3VWq"
      },
      "source": [
        "# Store the metrics\n",
        "metrics['Average RMSE'].append(las_rmse['Average RMSE'].values[0])\n",
        "metrics['Average R2'].append(np.mean(las_r2_scores))"
      ],
      "execution_count": 43,
      "outputs": []
    },
    {
      "cell_type": "markdown",
      "metadata": {
        "id": "QYEv7QXN4Pc9"
      },
      "source": [
        "It's very similar to L2, but a bit worse."
      ]
    },
    {
      "cell_type": "markdown",
      "metadata": {
        "id": "BZX-DRxw3vBd"
      },
      "source": [
        "**Elastic Net Regresstion (L1 + L2)**"
      ]
    },
    {
      "cell_type": "code",
      "metadata": {
        "colab": {
          "base_uri": "https://localhost:8080/",
          "height": 206
        },
        "id": "l78Yb71j3x93",
        "outputId": "5bf123c3-82ec-4d31-fe59-af78bc677a1f"
      },
      "source": [
        "# Blank dictionary to add in metrics\n",
        "elasticnet_scores = {}\n",
        "\n",
        "# Iterate over different alphas\n",
        "for d in [1, 2, 3]:\n",
        "    for a in [0.005, 0.01, 0.05, 0.1, 0.3, 1, 3, 5, 10]:\n",
        "        score = cross_val_score(XPipe(X)\n",
        "                                .model_pipe(ElasticNet(alpha=a, max_iter=100000), degree=d),\n",
        "                                X, y, cv=kf, scoring='neg_mean_squared_error')\n",
        "        elasticnet_scores[f'Degree = {d}, alpha = {a}'] = np.mean(np.sqrt(-score))\n",
        "\n",
        "# Create an error table and print it out (first 5 rows)\n",
        "elasticnet_rmse = pd.DataFrame.from_dict(elasticnet_scores, orient='index', columns=['Average RMSE']).sort_values('Average RMSE')\n",
        "elasticnet_rmse.head(5)"
      ],
      "execution_count": 30,
      "outputs": [
        {
          "output_type": "execute_result",
          "data": {
            "text/html": [
              "<div>\n",
              "<style scoped>\n",
              "    .dataframe tbody tr th:only-of-type {\n",
              "        vertical-align: middle;\n",
              "    }\n",
              "\n",
              "    .dataframe tbody tr th {\n",
              "        vertical-align: top;\n",
              "    }\n",
              "\n",
              "    .dataframe thead th {\n",
              "        text-align: right;\n",
              "    }\n",
              "</style>\n",
              "<table border=\"1\" class=\"dataframe\">\n",
              "  <thead>\n",
              "    <tr style=\"text-align: right;\">\n",
              "      <th></th>\n",
              "      <th>Average RMSE</th>\n",
              "    </tr>\n",
              "  </thead>\n",
              "  <tbody>\n",
              "    <tr>\n",
              "      <th>Degree = 2, alpha = 0.005</th>\n",
              "      <td>1637.271589</td>\n",
              "    </tr>\n",
              "    <tr>\n",
              "      <th>Degree = 3, alpha = 0.005</th>\n",
              "      <td>1638.683508</td>\n",
              "    </tr>\n",
              "    <tr>\n",
              "      <th>Degree = 2, alpha = 0.01</th>\n",
              "      <td>1674.992278</td>\n",
              "    </tr>\n",
              "    <tr>\n",
              "      <th>Degree = 3, alpha = 0.01</th>\n",
              "      <td>1677.963453</td>\n",
              "    </tr>\n",
              "    <tr>\n",
              "      <th>Degree = 1, alpha = 0.005</th>\n",
              "      <td>1800.234051</td>\n",
              "    </tr>\n",
              "  </tbody>\n",
              "</table>\n",
              "</div>"
            ],
            "text/plain": [
              "                           Average RMSE\n",
              "Degree = 2, alpha = 0.005   1637.271589\n",
              "Degree = 3, alpha = 0.005   1638.683508\n",
              "Degree = 2, alpha = 0.01    1674.992278\n",
              "Degree = 3, alpha = 0.01    1677.963453\n",
              "Degree = 1, alpha = 0.005   1800.234051"
            ]
          },
          "metadata": {},
          "execution_count": 30
        }
      ]
    },
    {
      "cell_type": "code",
      "metadata": {
        "colab": {
          "base_uri": "https://localhost:8080/"
        },
        "id": "r4Gut3i530nh",
        "outputId": "0b244558-d645-43ca-c0f5-6165f696b462"
      },
      "source": [
        "# Calculate average R squared\n",
        "elasticnet_r2_scores = cross_val_score(XPipe(X)\n",
        "                                       .model_pipe(ElasticNet(alpha= 0.005, max_iter=100000), degree=3),\n",
        "                                       X, y, cv=kf)\n",
        "elasticnet_r2_scores"
      ],
      "execution_count": 69,
      "outputs": [
        {
          "output_type": "execute_result",
          "data": {
            "text/plain": [
              "array([0.85438016, 0.88222945, 0.89925448, 0.87685823, 0.88624845])"
            ]
          },
          "metadata": {},
          "execution_count": 69
        }
      ]
    },
    {
      "cell_type": "code",
      "metadata": {
        "id": "Y8mM-nmo4r72"
      },
      "source": [
        "# Store the metrics\n",
        "metrics['Average RMSE'].append(elasticnet_rmse['Average RMSE'].values[0])\n",
        "metrics['Average R2'].append(np.mean(elasticnet_r2_scores))\n"
      ],
      "execution_count": 44,
      "outputs": []
    },
    {
      "cell_type": "markdown",
      "metadata": {
        "id": "syONHNkT4zux"
      },
      "source": [
        "Not so good as the others. "
      ]
    },
    {
      "cell_type": "markdown",
      "metadata": {
        "id": "GlCCPXM144d6"
      },
      "source": [
        "**Compare the metrics**"
      ]
    },
    {
      "cell_type": "code",
      "metadata": {
        "colab": {
          "base_uri": "https://localhost:8080/",
          "height": 206
        },
        "id": "zYKd7qmG45n1",
        "outputId": "b3f13415-300b-489e-9952-105fd4141bb9"
      },
      "source": [
        "# Create a comparison table\n",
        "metrics['Model'] = ['Linear', 'Ridge', 'Lasso', 'Elastic Net']\n",
        "pd.DataFrame.from_dict(metrics).set_index('Model').sort_values('Average RMSE')"
      ],
      "execution_count": 45,
      "outputs": [
        {
          "output_type": "execute_result",
          "data": {
            "text/html": [
              "<div>\n",
              "<style scoped>\n",
              "    .dataframe tbody tr th:only-of-type {\n",
              "        vertical-align: middle;\n",
              "    }\n",
              "\n",
              "    .dataframe tbody tr th {\n",
              "        vertical-align: top;\n",
              "    }\n",
              "\n",
              "    .dataframe thead th {\n",
              "        text-align: right;\n",
              "    }\n",
              "</style>\n",
              "<table border=\"1\" class=\"dataframe\">\n",
              "  <thead>\n",
              "    <tr style=\"text-align: right;\">\n",
              "      <th></th>\n",
              "      <th>Average RMSE</th>\n",
              "      <th>Average R2</th>\n",
              "    </tr>\n",
              "    <tr>\n",
              "      <th>Model</th>\n",
              "      <th></th>\n",
              "      <th></th>\n",
              "    </tr>\n",
              "  </thead>\n",
              "  <tbody>\n",
              "    <tr>\n",
              "      <th>Lasso</th>\n",
              "      <td>1577.177797</td>\n",
              "      <td>0.888733</td>\n",
              "    </tr>\n",
              "    <tr>\n",
              "      <th>Ridge</th>\n",
              "      <td>1577.859921</td>\n",
              "      <td>0.888630</td>\n",
              "    </tr>\n",
              "    <tr>\n",
              "      <th>Linear</th>\n",
              "      <td>1577.884535</td>\n",
              "      <td>0.888627</td>\n",
              "    </tr>\n",
              "    <tr>\n",
              "      <th>Elastic Net</th>\n",
              "      <td>1637.271589</td>\n",
              "      <td>0.880330</td>\n",
              "    </tr>\n",
              "  </tbody>\n",
              "</table>\n",
              "</div>"
            ],
            "text/plain": [
              "             Average RMSE  Average R2\n",
              "Model                                \n",
              "Lasso         1577.177797    0.888733\n",
              "Ridge         1577.859921    0.888630\n",
              "Linear        1577.884535    0.888627\n",
              "Elastic Net   1637.271589    0.880330"
            ]
          },
          "metadata": {},
          "execution_count": 45
        }
      ]
    },
    {
      "cell_type": "markdown",
      "metadata": {
        "id": "gt14CTtc5Qpi"
      },
      "source": [
        "Lasso was the best model"
      ]
    },
    {
      "cell_type": "markdown",
      "metadata": {
        "id": "9WlCuyrt5z4Z"
      },
      "source": [
        "#5. Predict on the test set"
      ]
    },
    {
      "cell_type": "markdown",
      "metadata": {
        "id": "N8NYbM7DKneE"
      },
      "source": [
        "Let's use four models to make prediction on the unseen test set."
      ]
    },
    {
      "cell_type": "code",
      "metadata": {
        "id": "Z8Hz77RsKqMb"
      },
      "source": [
        "# Keep the original data\n",
        "train_df, test_df = train.copy(), test.copy()"
      ],
      "execution_count": 58,
      "outputs": []
    },
    {
      "cell_type": "code",
      "metadata": {
        "id": "FDpH-ubuRHvc"
      },
      "source": [
        "train_df['age'] = 2021 - train_df['year']\n",
        "\n",
        "#Removing outlier from age\n",
        "if train_df[train_df['age'] == -39].index > 0:\n",
        "  train_df.drop(index= train_df[train_df['age'] == -39].index, axis=1, inplace= True)\n",
        "\n",
        "train_df = train_df.drop(['year'], axis=1)\n",
        "train_df['model'] = train_df['model'].str.strip(' ')\n",
        "\n",
        "X_test = train_df.drop('price', axis=1)\n",
        "y_test = train_df['price']"
      ],
      "execution_count": 59,
      "outputs": []
    },
    {
      "cell_type": "code",
      "metadata": {
        "id": "RbelZPe9Qjym"
      },
      "source": [
        "# Clean the training set\n",
        "X_train = train_df.drop('price', axis=1)\n",
        "y_train = train_df['price']"
      ],
      "execution_count": 60,
      "outputs": []
    },
    {
      "cell_type": "code",
      "metadata": {
        "id": "jNlWwGGRKzYV"
      },
      "source": [
        "test_df['age'] = 2021 - test_df['year']\n",
        "\n",
        "#Removing outlier from age\n",
        "if test_df[test_df['age'] == -39].index > 0:\n",
        "  test_df.drop(index= test_df[test_df['age'] == -39].index, axis=1, inplace= True)\n",
        "\n",
        "test_df = test_df.drop(['year'], axis=1)\n",
        "test_df['model'] = test_df['model'].str.strip(' ')\n",
        "\n",
        "X_test = test_df.drop('price', axis=1)\n",
        "y_test = test_df['price']"
      ],
      "execution_count": 61,
      "outputs": []
    },
    {
      "cell_type": "code",
      "metadata": {
        "colab": {
          "base_uri": "https://localhost:8080/",
          "height": 866
        },
        "id": "uXTv2AsCPhKN",
        "outputId": "9ecb8f35-acf5-4320-d339-27cd50843779"
      },
      "source": [
        "# Make prediction on the test set and plot four scatter plots separately\n",
        "\n",
        "fig, axes = plt.subplots(2,2, figsize=(14,14), sharex=True, sharey=True)\n",
        "fig.text(0.5, 0.07, 'Predicted Price', ha='center', fontdict={'size': 16})\n",
        "fig.text(0.07, 0.5, 'Actual Price', va='center', rotation='vertical', fontdict={'size': 16})\n",
        "\n",
        "models = [LinearRegression(), Lasso(alpha=0.3, max_iter=100000),\n",
        "          Ridge(alpha=0.1, max_iter=100000), ElasticNet(alpha=0.005, max_iter=100000)]\n",
        "\n",
        "labels = ['Linear', 'Lasso', 'Ridge', 'Elastic Net']\n",
        "\n",
        "for i, ax in enumerate(axes.flatten()):\n",
        "    y_pred = (XPipe(X_train)\n",
        "              .model_pipe(models[i], degree=3)\n",
        "              .fit(X_train, y_train)\n",
        "              .predict(X_test))\n",
        "\n",
        "    r_squared = r2_score(y_test, y_pred)\n",
        "\n",
        "    ax.plot(y_test, y_pred, marker='o', ls='', ms=3.0)\n",
        "    ax.set(title=f'{labels[i]} Regression R2: {r_squared}')"
      ],
      "execution_count": 64,
      "outputs": [
        {
          "output_type": "display_data",
          "data": {
            "image/png": "[encoded data removed]",
            "text/plain": [
              "<Figure size 1008x1008 with 4 Axes>"
            ]
          },
          "metadata": {
            "needs_background": "light"
          }
        }
      ]
    },
    {
      "cell_type": "markdown",
      "metadata": {
        "id": "xQeEgsHJRwUk"
      },
      "source": [
        "Lasso Regression has the best prediction on the test set. All these models can explain the target around 87% - 88%."
      ]
    },
    {
      "cell_type": "code",
      "metadata": {
        "colab": {
          "base_uri": "https://localhost:8080/",
          "height": 518
        },
        "id": "ftLoQcFNR3Cg",
        "outputId": "3111376e-1c2b-4382-e3b8-682d050101f4"
      },
      "source": [
        "# Make prediction on the test set and plot one combined scatter plot\n",
        "\n",
        "fig = plt.figure(figsize=(12,8))\n",
        "ax = plt.axes()\n",
        "\n",
        "models = [ElasticNet(alpha=0.005, max_iter=100000), LinearRegression(),\n",
        "          Ridge(alpha=0.1, max_iter=100000), Lasso(alpha=0.3, max_iter=100000)]\n",
        "         \n",
        "labels = ['Elastic Net', 'Linear', 'Ridge', 'Lasso']\n",
        "\n",
        "for mod, lab in zip(models, labels):\n",
        "    y_pred = (XPipe(X_train)\n",
        "              .model_pipe(mod, degree=3)\n",
        "              .fit(X_train, y_train)\n",
        "              .predict(X_test))\n",
        "    ax.plot(y_test, y_pred, marker='o', ls='', ms=3.0, label=lab)\n",
        "\n",
        "leg = plt.legend(frameon=True)\n",
        "leg.get_frame().set_edgecolor('black')\n",
        "leg.get_frame().set_linewidth(1.0)\n",
        "\n",
        "ax.set(xlabel='Actual Price', \n",
        "       ylabel='Predicted Price', \n",
        "       title='Regression Results');"
      ],
      "execution_count": 73,
      "outputs": [
        {
          "output_type": "display_data",
          "data": {
            "image/png": "[encoded data removed]",
            "text/plain": [
              "<Figure size 864x576 with 1 Axes>"
            ]
          },
          "metadata": {
            "needs_background": "light"
          }
        }
      ]
    },
    {
      "cell_type": "markdown",
      "metadata": {
        "id": "Kzx9nv0XS2UC"
      },
      "source": [
        "these plots are nearly identical."
      ]
    },
    {
      "cell_type": "markdown",
      "metadata": {
        "id": "mWDmaMbRS9_e"
      },
      "source": [
        "**Feature importance**"
      ]
    },
    {
      "cell_type": "markdown",
      "metadata": {
        "id": "v0RlKaiLTDr3"
      },
      "source": [
        "The Lasso Regression is our best model. Let's see which feature is the most important in the model."
      ]
    },
    {
      "cell_type": "code",
      "metadata": {
        "colab": {
          "base_uri": "https://localhost:8080/"
        },
        "id": "MMPBKZIQTARP",
        "outputId": "19fe5960-bbfd-4567-d390-9cd8ccdf412e"
      },
      "source": [
        "# Have a look at the data pipeline\n",
        "estimator = XPipe(X_train).model_pipe(Lasso(alpha=0.3, max_iter=100000), degree=3)\n",
        "estimator.fit(X_train, y_train)"
      ],
      "execution_count": 71,
      "outputs": [
        {
          "output_type": "execute_result",
          "data": {
            "text/plain": [
              "Pipeline(steps=[('dataframemapper',\n",
              "                 DataFrameMapper(features=[(['model'],\n",
              "                                            [OneHotEncoder(handle_unknown='ignore',\n",
              "                                                           sparse=False),\n",
              "                                             FunctionTransformer(func=<bound method XPipe.drop_first of <__main__.XPipe object at 0x7fb20b4d4690>>)]),\n",
              "                                           (['transmission'],\n",
              "                                            [OneHotEncoder(handle_unknown='ignore',\n",
              "                                                           sparse=False),\n",
              "                                             FunctionTransformer(func=<bound method XPipe.drop_first of <...\n",
              "                                           (['mileage', 'tax', 'mpg',\n",
              "                                             'engineSize', 'age'],\n",
              "                                            [FunctionTransformer(func=<bound method XPipe.sqrt_trans of <__main__.XPipe object at 0x7fb20b4d4690>>),\n",
              "                                             FunctionTransformer(func=<bound method XPipe.log_trans of <__main__.XPipe object at 0x7fb20b4d4690>>),\n",
              "                                             StandardScaler(),\n",
              "                                             PolynomialFeatures(degree=3,\n",
              "                                                                include_bias=False)])])),\n",
              "                ('lasso', Lasso(alpha=0.3, max_iter=100000))])"
            ]
          },
          "metadata": {},
          "execution_count": 71
        }
      ]
    },
    {
      "cell_type": "code",
      "metadata": {
        "id": "0RxmAC_bTHTw"
      },
      "source": [
        "# Get the transformer list and feature names\n",
        "transformers = estimator.named_steps['dataframemapper'].features\n",
        "cat_cols = XPipe(X_train).cat_cols\n",
        "num_cols = XPipe(X_train).num_cols"
      ],
      "execution_count": 74,
      "outputs": []
    },
    {
      "cell_type": "code",
      "metadata": {
        "id": "qTuMnQJnT_aK"
      },
      "source": [
        ""
      ],
      "execution_count": null,
      "outputs": []
    }
  ]
}