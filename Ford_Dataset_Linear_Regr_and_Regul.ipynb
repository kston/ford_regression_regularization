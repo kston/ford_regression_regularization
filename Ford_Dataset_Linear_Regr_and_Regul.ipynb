{
  "nbformat": 4,
  "nbformat_minor": 0,
  "metadata": {
    "colab": {
      "name": "Ford Dataset - Linear Regr and Regul.ipynb",
      "provenance": [],
      "mount_file_id": "1p33kNgRTCuu9iBgyA0gZFF3GgY0hKJlL",
      "authorship_tag": "ABX9TyNFigD9aUUkVPQC2R3ewLtX"
    },
    "kernelspec": {
      "name": "python3",
      "display_name": "Python 3"
    },
    "language_info": {
      "name": "python"
    }
  },
  "cells": [
    {
      "cell_type": "markdown",
      "metadata": {
        "id": "SMs_C5FVyFh7"
      },
      "source": [
        "This notebbok contents is:\n",
        "\n",
        "1. Problem\n",
        "2. Train test split\n",
        "3. Simple EDA\n",
        "  * Descritive Statistics and data cleaning\n",
        "  * numerical features\n",
        "  * Categorical Features\n",
        "4. Model variations\n",
        " * Apply One-hot encoding\n",
        " * Apply Square root transformation\n",
        " * Apply Standard scaling\n",
        " * Add Polynomial Features\n",
        "\n",
        "5. Cross-validation and Regularization\n",
        "\n",
        " * Linear Regression\n",
        " * Lasso Regression (L1)\n",
        " * Ridge Regression(L2)\n",
        " * Elastic Net Regression (L1 + L2)\n",
        " * Compare the metrics\n",
        "\n",
        "6. Predict on the test set\n",
        " * Scatter plots of four models\n",
        " * Feature Importance\n",
        "\n",
        "7. Conclusion\n"
      ]
    },
    {
      "cell_type": "markdown",
      "metadata": {
        "id": "pva1wGLNxuW9"
      },
      "source": [
        "# 1. Problem"
      ]
    },
    {
      "cell_type": "markdown",
      "metadata": {
        "id": "mDHVz4CixzYz"
      },
      "source": [
        "The main objective of this analysis is to predict price(£) of uses ford cars using Linear Regressions."
      ]
    },
    {
      "cell_type": "markdown",
      "metadata": {
        "id": "z-g2IHoQzfQ3"
      },
      "source": [
        "# 2. Train test split"
      ]
    },
    {
      "cell_type": "code",
      "metadata": {
        "id": "MUg9xUSXzkd1"
      },
      "source": [
        "import pandas as pd\n",
        "import numpy as np\n",
        "import seaborn as sns\n",
        "import matplotlib.pyplot as plt\n",
        "\n",
        "sns.set()\n",
        "%matplotlib inline\n",
        "\n",
        "pd.options.mode.chained_assignment = None"
      ],
      "execution_count": 86,
      "outputs": []
    },
    {
      "cell_type": "code",
      "metadata": {
        "colab": {
          "base_uri": "https://localhost:8080/",
          "height": 0
        },
        "id": "FDcki2eU1O35",
        "outputId": "a09822a2-f851-491b-d3ce-19c405885443"
      },
      "source": [
        "df = pd.read_csv('/content/drive/MyDrive/Data Science/portifolio/ford_regularization/ford.csv')\n",
        "df"
      ],
      "execution_count": 87,
      "outputs": [
        {
          "output_type": "execute_result",
          "data": {
            "text/html": [
              "<div>\n",
              "<style scoped>\n",
              "    .dataframe tbody tr th:only-of-type {\n",
              "        vertical-align: middle;\n",
              "    }\n",
              "\n",
              "    .dataframe tbody tr th {\n",
              "        vertical-align: top;\n",
              "    }\n",
              "\n",
              "    .dataframe thead th {\n",
              "        text-align: right;\n",
              "    }\n",
              "</style>\n",
              "<table border=\"1\" class=\"dataframe\">\n",
              "  <thead>\n",
              "    <tr style=\"text-align: right;\">\n",
              "      <th></th>\n",
              "      <th>model</th>\n",
              "      <th>year</th>\n",
              "      <th>price</th>\n",
              "      <th>transmission</th>\n",
              "      <th>mileage</th>\n",
              "      <th>fuelType</th>\n",
              "      <th>tax</th>\n",
              "      <th>mpg</th>\n",
              "      <th>engineSize</th>\n",
              "    </tr>\n",
              "  </thead>\n",
              "  <tbody>\n",
              "    <tr>\n",
              "      <th>0</th>\n",
              "      <td>Fiesta</td>\n",
              "      <td>2017</td>\n",
              "      <td>12000</td>\n",
              "      <td>Automatic</td>\n",
              "      <td>15944</td>\n",
              "      <td>Petrol</td>\n",
              "      <td>150</td>\n",
              "      <td>57.7</td>\n",
              "      <td>1.0</td>\n",
              "    </tr>\n",
              "    <tr>\n",
              "      <th>1</th>\n",
              "      <td>Focus</td>\n",
              "      <td>2018</td>\n",
              "      <td>14000</td>\n",
              "      <td>Manual</td>\n",
              "      <td>9083</td>\n",
              "      <td>Petrol</td>\n",
              "      <td>150</td>\n",
              "      <td>57.7</td>\n",
              "      <td>1.0</td>\n",
              "    </tr>\n",
              "    <tr>\n",
              "      <th>2</th>\n",
              "      <td>Focus</td>\n",
              "      <td>2017</td>\n",
              "      <td>13000</td>\n",
              "      <td>Manual</td>\n",
              "      <td>12456</td>\n",
              "      <td>Petrol</td>\n",
              "      <td>150</td>\n",
              "      <td>57.7</td>\n",
              "      <td>1.0</td>\n",
              "    </tr>\n",
              "    <tr>\n",
              "      <th>3</th>\n",
              "      <td>Fiesta</td>\n",
              "      <td>2019</td>\n",
              "      <td>17500</td>\n",
              "      <td>Manual</td>\n",
              "      <td>10460</td>\n",
              "      <td>Petrol</td>\n",
              "      <td>145</td>\n",
              "      <td>40.3</td>\n",
              "      <td>1.5</td>\n",
              "    </tr>\n",
              "    <tr>\n",
              "      <th>4</th>\n",
              "      <td>Fiesta</td>\n",
              "      <td>2019</td>\n",
              "      <td>16500</td>\n",
              "      <td>Automatic</td>\n",
              "      <td>1482</td>\n",
              "      <td>Petrol</td>\n",
              "      <td>145</td>\n",
              "      <td>48.7</td>\n",
              "      <td>1.0</td>\n",
              "    </tr>\n",
              "    <tr>\n",
              "      <th>...</th>\n",
              "      <td>...</td>\n",
              "      <td>...</td>\n",
              "      <td>...</td>\n",
              "      <td>...</td>\n",
              "      <td>...</td>\n",
              "      <td>...</td>\n",
              "      <td>...</td>\n",
              "      <td>...</td>\n",
              "      <td>...</td>\n",
              "    </tr>\n",
              "    <tr>\n",
              "      <th>17960</th>\n",
              "      <td>Fiesta</td>\n",
              "      <td>2016</td>\n",
              "      <td>7999</td>\n",
              "      <td>Manual</td>\n",
              "      <td>31348</td>\n",
              "      <td>Petrol</td>\n",
              "      <td>125</td>\n",
              "      <td>54.3</td>\n",
              "      <td>1.2</td>\n",
              "    </tr>\n",
              "    <tr>\n",
              "      <th>17961</th>\n",
              "      <td>B-MAX</td>\n",
              "      <td>2017</td>\n",
              "      <td>8999</td>\n",
              "      <td>Manual</td>\n",
              "      <td>16700</td>\n",
              "      <td>Petrol</td>\n",
              "      <td>150</td>\n",
              "      <td>47.1</td>\n",
              "      <td>1.4</td>\n",
              "    </tr>\n",
              "    <tr>\n",
              "      <th>17962</th>\n",
              "      <td>B-MAX</td>\n",
              "      <td>2014</td>\n",
              "      <td>7499</td>\n",
              "      <td>Manual</td>\n",
              "      <td>40700</td>\n",
              "      <td>Petrol</td>\n",
              "      <td>30</td>\n",
              "      <td>57.7</td>\n",
              "      <td>1.0</td>\n",
              "    </tr>\n",
              "    <tr>\n",
              "      <th>17963</th>\n",
              "      <td>Focus</td>\n",
              "      <td>2015</td>\n",
              "      <td>9999</td>\n",
              "      <td>Manual</td>\n",
              "      <td>7010</td>\n",
              "      <td>Diesel</td>\n",
              "      <td>20</td>\n",
              "      <td>67.3</td>\n",
              "      <td>1.6</td>\n",
              "    </tr>\n",
              "    <tr>\n",
              "      <th>17964</th>\n",
              "      <td>KA</td>\n",
              "      <td>2018</td>\n",
              "      <td>8299</td>\n",
              "      <td>Manual</td>\n",
              "      <td>5007</td>\n",
              "      <td>Petrol</td>\n",
              "      <td>145</td>\n",
              "      <td>57.7</td>\n",
              "      <td>1.2</td>\n",
              "    </tr>\n",
              "  </tbody>\n",
              "</table>\n",
              "<p>17965 rows × 9 columns</p>\n",
              "</div>"
            ],
            "text/plain": [
              "         model  year  price transmission  ...  fuelType  tax   mpg  engineSize\n",
              "0       Fiesta  2017  12000    Automatic  ...    Petrol  150  57.7         1.0\n",
              "1        Focus  2018  14000       Manual  ...    Petrol  150  57.7         1.0\n",
              "2        Focus  2017  13000       Manual  ...    Petrol  150  57.7         1.0\n",
              "3       Fiesta  2019  17500       Manual  ...    Petrol  145  40.3         1.5\n",
              "4       Fiesta  2019  16500    Automatic  ...    Petrol  145  48.7         1.0\n",
              "...        ...   ...    ...          ...  ...       ...  ...   ...         ...\n",
              "17960   Fiesta  2016   7999       Manual  ...    Petrol  125  54.3         1.2\n",
              "17961    B-MAX  2017   8999       Manual  ...    Petrol  150  47.1         1.4\n",
              "17962    B-MAX  2014   7499       Manual  ...    Petrol   30  57.7         1.0\n",
              "17963    Focus  2015   9999       Manual  ...    Diesel   20  67.3         1.6\n",
              "17964       KA  2018   8299       Manual  ...    Petrol  145  57.7         1.2\n",
              "\n",
              "[17965 rows x 9 columns]"
            ]
          },
          "metadata": {},
          "execution_count": 87
        }
      ]
    },
    {
      "cell_type": "code",
      "metadata": {
        "colab": {
          "base_uri": "https://localhost:8080/"
        },
        "id": "CnlEOEq23Oji",
        "outputId": "77d7c024-076f-409b-f82c-6e6163b7f9ee"
      },
      "source": [
        "df.info()"
      ],
      "execution_count": 88,
      "outputs": [
        {
          "output_type": "stream",
          "name": "stdout",
          "text": [
            "<class 'pandas.core.frame.DataFrame'>\n",
            "RangeIndex: 17965 entries, 0 to 17964\n",
            "Data columns (total 9 columns):\n",
            " #   Column        Non-Null Count  Dtype  \n",
            "---  ------        --------------  -----  \n",
            " 0   model         17965 non-null  object \n",
            " 1   year          17965 non-null  int64  \n",
            " 2   price         17965 non-null  int64  \n",
            " 3   transmission  17965 non-null  object \n",
            " 4   mileage       17965 non-null  int64  \n",
            " 5   fuelType      17965 non-null  object \n",
            " 6   tax           17965 non-null  int64  \n",
            " 7   mpg           17965 non-null  float64\n",
            " 8   engineSize    17965 non-null  float64\n",
            "dtypes: float64(2), int64(4), object(3)\n",
            "memory usage: 1.2+ MB\n"
          ]
        }
      ]
    },
    {
      "cell_type": "code",
      "metadata": {
        "colab": {
          "base_uri": "https://localhost:8080/"
        },
        "id": "QWrSDqR63UOe",
        "outputId": "d2c133cf-4906-450c-893d-6755c1819ad6"
      },
      "source": [
        "df.shape"
      ],
      "execution_count": 89,
      "outputs": [
        {
          "output_type": "execute_result",
          "data": {
            "text/plain": [
              "(17965, 9)"
            ]
          },
          "metadata": {},
          "execution_count": 89
        }
      ]
    },
    {
      "cell_type": "code",
      "metadata": {
        "colab": {
          "base_uri": "https://localhost:8080/",
          "height": 0
        },
        "id": "i_x4y6UH3iaX",
        "outputId": "2f7a4421-fdb9-4526-b95b-3fbe2de98b97"
      },
      "source": [
        "#check duplicated rows\n",
        "df[df.duplicated()]"
      ],
      "execution_count": 90,
      "outputs": [
        {
          "output_type": "execute_result",
          "data": {
            "text/html": [
              "<div>\n",
              "<style scoped>\n",
              "    .dataframe tbody tr th:only-of-type {\n",
              "        vertical-align: middle;\n",
              "    }\n",
              "\n",
              "    .dataframe tbody tr th {\n",
              "        vertical-align: top;\n",
              "    }\n",
              "\n",
              "    .dataframe thead th {\n",
              "        text-align: right;\n",
              "    }\n",
              "</style>\n",
              "<table border=\"1\" class=\"dataframe\">\n",
              "  <thead>\n",
              "    <tr style=\"text-align: right;\">\n",
              "      <th></th>\n",
              "      <th>model</th>\n",
              "      <th>year</th>\n",
              "      <th>price</th>\n",
              "      <th>transmission</th>\n",
              "      <th>mileage</th>\n",
              "      <th>fuelType</th>\n",
              "      <th>tax</th>\n",
              "      <th>mpg</th>\n",
              "      <th>engineSize</th>\n",
              "    </tr>\n",
              "  </thead>\n",
              "  <tbody>\n",
              "    <tr>\n",
              "      <th>159</th>\n",
              "      <td>Focus</td>\n",
              "      <td>2016</td>\n",
              "      <td>10995</td>\n",
              "      <td>Manual</td>\n",
              "      <td>30923</td>\n",
              "      <td>Diesel</td>\n",
              "      <td>0</td>\n",
              "      <td>74.3</td>\n",
              "      <td>1.5</td>\n",
              "    </tr>\n",
              "    <tr>\n",
              "      <th>312</th>\n",
              "      <td>Focus</td>\n",
              "      <td>2019</td>\n",
              "      <td>14998</td>\n",
              "      <td>Manual</td>\n",
              "      <td>7000</td>\n",
              "      <td>Petrol</td>\n",
              "      <td>145</td>\n",
              "      <td>58.9</td>\n",
              "      <td>1.0</td>\n",
              "    </tr>\n",
              "    <tr>\n",
              "      <th>349</th>\n",
              "      <td>Focus</td>\n",
              "      <td>2019</td>\n",
              "      <td>14998</td>\n",
              "      <td>Manual</td>\n",
              "      <td>7000</td>\n",
              "      <td>Petrol</td>\n",
              "      <td>145</td>\n",
              "      <td>58.9</td>\n",
              "      <td>1.0</td>\n",
              "    </tr>\n",
              "    <tr>\n",
              "      <th>510</th>\n",
              "      <td>EcoSport</td>\n",
              "      <td>2019</td>\n",
              "      <td>15489</td>\n",
              "      <td>Manual</td>\n",
              "      <td>5636</td>\n",
              "      <td>Diesel</td>\n",
              "      <td>145</td>\n",
              "      <td>68.9</td>\n",
              "      <td>1.5</td>\n",
              "    </tr>\n",
              "    <tr>\n",
              "      <th>512</th>\n",
              "      <td>Grand Tourneo Connect</td>\n",
              "      <td>2019</td>\n",
              "      <td>19999</td>\n",
              "      <td>Manual</td>\n",
              "      <td>3500</td>\n",
              "      <td>Diesel</td>\n",
              "      <td>145</td>\n",
              "      <td>61.4</td>\n",
              "      <td>1.5</td>\n",
              "    </tr>\n",
              "    <tr>\n",
              "      <th>...</th>\n",
              "      <td>...</td>\n",
              "      <td>...</td>\n",
              "      <td>...</td>\n",
              "      <td>...</td>\n",
              "      <td>...</td>\n",
              "      <td>...</td>\n",
              "      <td>...</td>\n",
              "      <td>...</td>\n",
              "      <td>...</td>\n",
              "    </tr>\n",
              "    <tr>\n",
              "      <th>14556</th>\n",
              "      <td>Mondeo</td>\n",
              "      <td>2015</td>\n",
              "      <td>6793</td>\n",
              "      <td>Manual</td>\n",
              "      <td>138000</td>\n",
              "      <td>Diesel</td>\n",
              "      <td>20</td>\n",
              "      <td>68.9</td>\n",
              "      <td>2.0</td>\n",
              "    </tr>\n",
              "    <tr>\n",
              "      <th>15121</th>\n",
              "      <td>Kuga</td>\n",
              "      <td>2017</td>\n",
              "      <td>14999</td>\n",
              "      <td>Manual</td>\n",
              "      <td>24877</td>\n",
              "      <td>Diesel</td>\n",
              "      <td>30</td>\n",
              "      <td>64.2</td>\n",
              "      <td>1.5</td>\n",
              "    </tr>\n",
              "    <tr>\n",
              "      <th>15127</th>\n",
              "      <td>EcoSport</td>\n",
              "      <td>2019</td>\n",
              "      <td>16799</td>\n",
              "      <td>Automatic</td>\n",
              "      <td>433</td>\n",
              "      <td>Petrol</td>\n",
              "      <td>150</td>\n",
              "      <td>45.6</td>\n",
              "      <td>1.0</td>\n",
              "    </tr>\n",
              "    <tr>\n",
              "      <th>15685</th>\n",
              "      <td>KA</td>\n",
              "      <td>2008</td>\n",
              "      <td>1795</td>\n",
              "      <td>Manual</td>\n",
              "      <td>63000</td>\n",
              "      <td>Petrol</td>\n",
              "      <td>160</td>\n",
              "      <td>45.6</td>\n",
              "      <td>1.3</td>\n",
              "    </tr>\n",
              "    <tr>\n",
              "      <th>17608</th>\n",
              "      <td>B-MAX</td>\n",
              "      <td>2017</td>\n",
              "      <td>11495</td>\n",
              "      <td>Automatic</td>\n",
              "      <td>5000</td>\n",
              "      <td>Petrol</td>\n",
              "      <td>145</td>\n",
              "      <td>44.1</td>\n",
              "      <td>1.6</td>\n",
              "    </tr>\n",
              "  </tbody>\n",
              "</table>\n",
              "<p>154 rows × 9 columns</p>\n",
              "</div>"
            ],
            "text/plain": [
              "                        model  year  price  ...  tax   mpg engineSize\n",
              "159                     Focus  2016  10995  ...    0  74.3        1.5\n",
              "312                     Focus  2019  14998  ...  145  58.9        1.0\n",
              "349                     Focus  2019  14998  ...  145  58.9        1.0\n",
              "510                  EcoSport  2019  15489  ...  145  68.9        1.5\n",
              "512     Grand Tourneo Connect  2019  19999  ...  145  61.4        1.5\n",
              "...                       ...   ...    ...  ...  ...   ...        ...\n",
              "14556                  Mondeo  2015   6793  ...   20  68.9        2.0\n",
              "15121                    Kuga  2017  14999  ...   30  64.2        1.5\n",
              "15127                EcoSport  2019  16799  ...  150  45.6        1.0\n",
              "15685                      KA  2008   1795  ...  160  45.6        1.3\n",
              "17608                   B-MAX  2017  11495  ...  145  44.1        1.6\n",
              "\n",
              "[154 rows x 9 columns]"
            ]
          },
          "metadata": {},
          "execution_count": 90
        }
      ]
    },
    {
      "cell_type": "code",
      "metadata": {
        "id": "-7XoqjGp59E1"
      },
      "source": [
        "df.drop_duplicates(keep='first', inplace=True)"
      ],
      "execution_count": 91,
      "outputs": []
    },
    {
      "cell_type": "code",
      "metadata": {
        "colab": {
          "base_uri": "https://localhost:8080/",
          "height": 0
        },
        "id": "ZC8vf3q96L2G",
        "outputId": "a5e90c9e-e69c-4058-a4be-d8ead139d14f"
      },
      "source": [
        "#check duplicated rows\n",
        "df[df.duplicated()]"
      ],
      "execution_count": 92,
      "outputs": [
        {
          "output_type": "execute_result",
          "data": {
            "text/html": [
              "<div>\n",
              "<style scoped>\n",
              "    .dataframe tbody tr th:only-of-type {\n",
              "        vertical-align: middle;\n",
              "    }\n",
              "\n",
              "    .dataframe tbody tr th {\n",
              "        vertical-align: top;\n",
              "    }\n",
              "\n",
              "    .dataframe thead th {\n",
              "        text-align: right;\n",
              "    }\n",
              "</style>\n",
              "<table border=\"1\" class=\"dataframe\">\n",
              "  <thead>\n",
              "    <tr style=\"text-align: right;\">\n",
              "      <th></th>\n",
              "      <th>model</th>\n",
              "      <th>year</th>\n",
              "      <th>price</th>\n",
              "      <th>transmission</th>\n",
              "      <th>mileage</th>\n",
              "      <th>fuelType</th>\n",
              "      <th>tax</th>\n",
              "      <th>mpg</th>\n",
              "      <th>engineSize</th>\n",
              "    </tr>\n",
              "  </thead>\n",
              "  <tbody>\n",
              "  </tbody>\n",
              "</table>\n",
              "</div>"
            ],
            "text/plain": [
              "Empty DataFrame\n",
              "Columns: [model, year, price, transmission, mileage, fuelType, tax, mpg, engineSize]\n",
              "Index: []"
            ]
          },
          "metadata": {},
          "execution_count": 92
        }
      ]
    },
    {
      "cell_type": "code",
      "metadata": {
        "id": "xKgTXUcC6U_C"
      },
      "source": [
        "df.reset_index(drop=True, inplace=True)"
      ],
      "execution_count": 93,
      "outputs": []
    },
    {
      "cell_type": "code",
      "metadata": {
        "colab": {
          "base_uri": "https://localhost:8080/"
        },
        "id": "LTysenfe6co0",
        "outputId": "0284b67e-6130-4efd-9258-8797e3ff9551"
      },
      "source": [
        "df.shape"
      ],
      "execution_count": 94,
      "outputs": [
        {
          "output_type": "execute_result",
          "data": {
            "text/plain": [
              "(17811, 9)"
            ]
          },
          "metadata": {},
          "execution_count": 94
        }
      ]
    },
    {
      "cell_type": "code",
      "metadata": {
        "colab": {
          "base_uri": "https://localhost:8080/"
        },
        "id": "UB6Vjq3Q6p_v",
        "outputId": "c9ebd8a7-a6cc-4431-e745-ca73cceb2b78"
      },
      "source": [
        "#split the data\n",
        "\n",
        "from sklearn.model_selection import train_test_split\n",
        "\n",
        "train_val, test = train_test_split(df, test_size = 0.20, random_state= 0)\n",
        "print(f'Training and validation set size: {train_val.shape}')\n",
        "print(f'Test set size: {test.shape}')\n"
      ],
      "execution_count": 95,
      "outputs": [
        {
          "output_type": "stream",
          "name": "stdout",
          "text": [
            "Training and validation set size: (14248, 9)\n",
            "Test set size: (3563, 9)\n"
          ]
        }
      ]
    },
    {
      "cell_type": "code",
      "metadata": {
        "colab": {
          "base_uri": "https://localhost:8080/"
        },
        "id": "4HLDFenI9_YQ",
        "outputId": "6eede6c9-c465-4431-b1d0-f76ca7a865ba"
      },
      "source": [
        "# Divide the train_val between train and val for cross-validation\n",
        "train, val = train_test_split(train_val, test_size= 0.25, random_state=0)\n",
        "\n",
        "print(f'Training set size: {train.shape}')\n",
        "print(f'Validation set size: {val.shape}')\n",
        "\n"
      ],
      "execution_count": 96,
      "outputs": [
        {
          "output_type": "stream",
          "name": "stdout",
          "text": [
            "Training set size: (10686, 9)\n",
            "Validation set size: (3562, 9)\n"
          ]
        }
      ]
    },
    {
      "cell_type": "markdown",
      "metadata": {
        "id": "t5JeWXEI-cYg"
      },
      "source": [
        "# 3. Simple EDA"
      ]
    },
    {
      "cell_type": "code",
      "metadata": {
        "colab": {
          "base_uri": "https://localhost:8080/",
          "height": 204
        },
        "id": "2olyUbWv-b_p",
        "outputId": "5165c10a-551b-47c7-b25c-511344042b9e"
      },
      "source": [
        "train.head()"
      ],
      "execution_count": 97,
      "outputs": [
        {
          "output_type": "execute_result",
          "data": {
            "text/html": [
              "<div>\n",
              "<style scoped>\n",
              "    .dataframe tbody tr th:only-of-type {\n",
              "        vertical-align: middle;\n",
              "    }\n",
              "\n",
              "    .dataframe tbody tr th {\n",
              "        vertical-align: top;\n",
              "    }\n",
              "\n",
              "    .dataframe thead th {\n",
              "        text-align: right;\n",
              "    }\n",
              "</style>\n",
              "<table border=\"1\" class=\"dataframe\">\n",
              "  <thead>\n",
              "    <tr style=\"text-align: right;\">\n",
              "      <th></th>\n",
              "      <th>model</th>\n",
              "      <th>year</th>\n",
              "      <th>price</th>\n",
              "      <th>transmission</th>\n",
              "      <th>mileage</th>\n",
              "      <th>fuelType</th>\n",
              "      <th>tax</th>\n",
              "      <th>mpg</th>\n",
              "      <th>engineSize</th>\n",
              "    </tr>\n",
              "  </thead>\n",
              "  <tbody>\n",
              "    <tr>\n",
              "      <th>14875</th>\n",
              "      <td>Kuga</td>\n",
              "      <td>2016</td>\n",
              "      <td>12000</td>\n",
              "      <td>Manual</td>\n",
              "      <td>21569</td>\n",
              "      <td>Diesel</td>\n",
              "      <td>125</td>\n",
              "      <td>60.1</td>\n",
              "      <td>2.0</td>\n",
              "    </tr>\n",
              "    <tr>\n",
              "      <th>10148</th>\n",
              "      <td>B-MAX</td>\n",
              "      <td>2016</td>\n",
              "      <td>9995</td>\n",
              "      <td>Semi-Auto</td>\n",
              "      <td>17900</td>\n",
              "      <td>Petrol</td>\n",
              "      <td>160</td>\n",
              "      <td>44.1</td>\n",
              "      <td>1.6</td>\n",
              "    </tr>\n",
              "    <tr>\n",
              "      <th>10329</th>\n",
              "      <td>Fiesta</td>\n",
              "      <td>2017</td>\n",
              "      <td>9280</td>\n",
              "      <td>Manual</td>\n",
              "      <td>28000</td>\n",
              "      <td>Petrol</td>\n",
              "      <td>145</td>\n",
              "      <td>62.8</td>\n",
              "      <td>1.0</td>\n",
              "    </tr>\n",
              "    <tr>\n",
              "      <th>5949</th>\n",
              "      <td>Fiesta</td>\n",
              "      <td>2019</td>\n",
              "      <td>16295</td>\n",
              "      <td>Semi-Auto</td>\n",
              "      <td>7698</td>\n",
              "      <td>Petrol</td>\n",
              "      <td>145</td>\n",
              "      <td>48.7</td>\n",
              "      <td>1.0</td>\n",
              "    </tr>\n",
              "    <tr>\n",
              "      <th>11779</th>\n",
              "      <td>Mustang</td>\n",
              "      <td>2017</td>\n",
              "      <td>48999</td>\n",
              "      <td>Automatic</td>\n",
              "      <td>7546</td>\n",
              "      <td>Petrol</td>\n",
              "      <td>145</td>\n",
              "      <td>23.5</td>\n",
              "      <td>5.0</td>\n",
              "    </tr>\n",
              "  </tbody>\n",
              "</table>\n",
              "</div>"
            ],
            "text/plain": [
              "          model  year  price transmission  ...  fuelType  tax   mpg  engineSize\n",
              "14875      Kuga  2016  12000       Manual  ...    Diesel  125  60.1         2.0\n",
              "10148     B-MAX  2016   9995    Semi-Auto  ...    Petrol  160  44.1         1.6\n",
              "10329    Fiesta  2017   9280       Manual  ...    Petrol  145  62.8         1.0\n",
              "5949     Fiesta  2019  16295    Semi-Auto  ...    Petrol  145  48.7         1.0\n",
              "11779   Mustang  2017  48999    Automatic  ...    Petrol  145  23.5         5.0\n",
              "\n",
              "[5 rows x 9 columns]"
            ]
          },
          "metadata": {},
          "execution_count": 97
        }
      ]
    },
    {
      "cell_type": "code",
      "metadata": {
        "colab": {
          "base_uri": "https://localhost:8080/"
        },
        "id": "F4oH5gtm-7sx",
        "outputId": "6b7326e9-81a7-4428-af08-2e9388139ab8"
      },
      "source": [
        "train.info()"
      ],
      "execution_count": 98,
      "outputs": [
        {
          "output_type": "stream",
          "name": "stdout",
          "text": [
            "<class 'pandas.core.frame.DataFrame'>\n",
            "Int64Index: 10686 entries, 14875 to 2308\n",
            "Data columns (total 9 columns):\n",
            " #   Column        Non-Null Count  Dtype  \n",
            "---  ------        --------------  -----  \n",
            " 0   model         10686 non-null  object \n",
            " 1   year          10686 non-null  int64  \n",
            " 2   price         10686 non-null  int64  \n",
            " 3   transmission  10686 non-null  object \n",
            " 4   mileage       10686 non-null  int64  \n",
            " 5   fuelType      10686 non-null  object \n",
            " 6   tax           10686 non-null  int64  \n",
            " 7   mpg           10686 non-null  float64\n",
            " 8   engineSize    10686 non-null  float64\n",
            "dtypes: float64(2), int64(4), object(3)\n",
            "memory usage: 834.8+ KB\n"
          ]
        }
      ]
    },
    {
      "cell_type": "code",
      "metadata": {
        "colab": {
          "base_uri": "https://localhost:8080/",
          "height": 297
        },
        "id": "ZyfdCjwA--2X",
        "outputId": "9f747fd0-723d-48a7-821c-6972d6f1f68d"
      },
      "source": [
        "train.describe()"
      ],
      "execution_count": 99,
      "outputs": [
        {
          "output_type": "execute_result",
          "data": {
            "text/html": [
              "<div>\n",
              "<style scoped>\n",
              "    .dataframe tbody tr th:only-of-type {\n",
              "        vertical-align: middle;\n",
              "    }\n",
              "\n",
              "    .dataframe tbody tr th {\n",
              "        vertical-align: top;\n",
              "    }\n",
              "\n",
              "    .dataframe thead th {\n",
              "        text-align: right;\n",
              "    }\n",
              "</style>\n",
              "<table border=\"1\" class=\"dataframe\">\n",
              "  <thead>\n",
              "    <tr style=\"text-align: right;\">\n",
              "      <th></th>\n",
              "      <th>year</th>\n",
              "      <th>price</th>\n",
              "      <th>mileage</th>\n",
              "      <th>tax</th>\n",
              "      <th>mpg</th>\n",
              "      <th>engineSize</th>\n",
              "    </tr>\n",
              "  </thead>\n",
              "  <tbody>\n",
              "    <tr>\n",
              "      <th>count</th>\n",
              "      <td>10686.000000</td>\n",
              "      <td>10686.000000</td>\n",
              "      <td>10686.000000</td>\n",
              "      <td>10686.000000</td>\n",
              "      <td>10686.000000</td>\n",
              "      <td>10686.000000</td>\n",
              "    </tr>\n",
              "    <tr>\n",
              "      <th>mean</th>\n",
              "      <td>2016.870017</td>\n",
              "      <td>12274.090118</td>\n",
              "      <td>23344.321168</td>\n",
              "      <td>113.443758</td>\n",
              "      <td>57.850926</td>\n",
              "      <td>1.353977</td>\n",
              "    </tr>\n",
              "    <tr>\n",
              "      <th>std</th>\n",
              "      <td>2.056717</td>\n",
              "      <td>4771.685341</td>\n",
              "      <td>19499.540207</td>\n",
              "      <td>61.416648</td>\n",
              "      <td>10.169595</td>\n",
              "      <td>0.434362</td>\n",
              "    </tr>\n",
              "    <tr>\n",
              "      <th>min</th>\n",
              "      <td>1996.000000</td>\n",
              "      <td>675.000000</td>\n",
              "      <td>1.000000</td>\n",
              "      <td>0.000000</td>\n",
              "      <td>20.800000</td>\n",
              "      <td>0.000000</td>\n",
              "    </tr>\n",
              "    <tr>\n",
              "      <th>25%</th>\n",
              "      <td>2016.000000</td>\n",
              "      <td>8999.000000</td>\n",
              "      <td>9975.000000</td>\n",
              "      <td>30.000000</td>\n",
              "      <td>52.300000</td>\n",
              "      <td>1.000000</td>\n",
              "    </tr>\n",
              "    <tr>\n",
              "      <th>50%</th>\n",
              "      <td>2017.000000</td>\n",
              "      <td>11291.000000</td>\n",
              "      <td>18229.500000</td>\n",
              "      <td>145.000000</td>\n",
              "      <td>58.900000</td>\n",
              "      <td>1.200000</td>\n",
              "    </tr>\n",
              "    <tr>\n",
              "      <th>75%</th>\n",
              "      <td>2018.000000</td>\n",
              "      <td>15295.000000</td>\n",
              "      <td>30970.000000</td>\n",
              "      <td>145.000000</td>\n",
              "      <td>65.700000</td>\n",
              "      <td>1.500000</td>\n",
              "    </tr>\n",
              "    <tr>\n",
              "      <th>max</th>\n",
              "      <td>2060.000000</td>\n",
              "      <td>49999.000000</td>\n",
              "      <td>174000.000000</td>\n",
              "      <td>580.000000</td>\n",
              "      <td>201.800000</td>\n",
              "      <td>5.000000</td>\n",
              "    </tr>\n",
              "  </tbody>\n",
              "</table>\n",
              "</div>"
            ],
            "text/plain": [
              "               year         price  ...           mpg    engineSize\n",
              "count  10686.000000  10686.000000  ...  10686.000000  10686.000000\n",
              "mean    2016.870017  12274.090118  ...     57.850926      1.353977\n",
              "std        2.056717   4771.685341  ...     10.169595      0.434362\n",
              "min     1996.000000    675.000000  ...     20.800000      0.000000\n",
              "25%     2016.000000   8999.000000  ...     52.300000      1.000000\n",
              "50%     2017.000000  11291.000000  ...     58.900000      1.200000\n",
              "75%     2018.000000  15295.000000  ...     65.700000      1.500000\n",
              "max     2060.000000  49999.000000  ...    201.800000      5.000000\n",
              "\n",
              "[8 rows x 6 columns]"
            ]
          },
          "metadata": {},
          "execution_count": 99
        }
      ]
    },
    {
      "cell_type": "code",
      "metadata": {
        "colab": {
          "base_uri": "https://localhost:8080/",
          "height": 419
        },
        "id": "FiH_zdGv_Eeu",
        "outputId": "32101ddf-2436-4381-fb61-697510e124eb"
      },
      "source": [
        "# Add in new feature age, and remove year\n",
        "train['age'] = 2021 - train['year']\n",
        "train.drop(['year'], axis=1, inplace=True)\n",
        "train"
      ],
      "execution_count": 100,
      "outputs": [
        {
          "output_type": "execute_result",
          "data": {
            "text/html": [
              "<div>\n",
              "<style scoped>\n",
              "    .dataframe tbody tr th:only-of-type {\n",
              "        vertical-align: middle;\n",
              "    }\n",
              "\n",
              "    .dataframe tbody tr th {\n",
              "        vertical-align: top;\n",
              "    }\n",
              "\n",
              "    .dataframe thead th {\n",
              "        text-align: right;\n",
              "    }\n",
              "</style>\n",
              "<table border=\"1\" class=\"dataframe\">\n",
              "  <thead>\n",
              "    <tr style=\"text-align: right;\">\n",
              "      <th></th>\n",
              "      <th>model</th>\n",
              "      <th>price</th>\n",
              "      <th>transmission</th>\n",
              "      <th>mileage</th>\n",
              "      <th>fuelType</th>\n",
              "      <th>tax</th>\n",
              "      <th>mpg</th>\n",
              "      <th>engineSize</th>\n",
              "      <th>age</th>\n",
              "    </tr>\n",
              "  </thead>\n",
              "  <tbody>\n",
              "    <tr>\n",
              "      <th>14875</th>\n",
              "      <td>Kuga</td>\n",
              "      <td>12000</td>\n",
              "      <td>Manual</td>\n",
              "      <td>21569</td>\n",
              "      <td>Diesel</td>\n",
              "      <td>125</td>\n",
              "      <td>60.1</td>\n",
              "      <td>2.0</td>\n",
              "      <td>5</td>\n",
              "    </tr>\n",
              "    <tr>\n",
              "      <th>10148</th>\n",
              "      <td>B-MAX</td>\n",
              "      <td>9995</td>\n",
              "      <td>Semi-Auto</td>\n",
              "      <td>17900</td>\n",
              "      <td>Petrol</td>\n",
              "      <td>160</td>\n",
              "      <td>44.1</td>\n",
              "      <td>1.6</td>\n",
              "      <td>5</td>\n",
              "    </tr>\n",
              "    <tr>\n",
              "      <th>10329</th>\n",
              "      <td>Fiesta</td>\n",
              "      <td>9280</td>\n",
              "      <td>Manual</td>\n",
              "      <td>28000</td>\n",
              "      <td>Petrol</td>\n",
              "      <td>145</td>\n",
              "      <td>62.8</td>\n",
              "      <td>1.0</td>\n",
              "      <td>4</td>\n",
              "    </tr>\n",
              "    <tr>\n",
              "      <th>5949</th>\n",
              "      <td>Fiesta</td>\n",
              "      <td>16295</td>\n",
              "      <td>Semi-Auto</td>\n",
              "      <td>7698</td>\n",
              "      <td>Petrol</td>\n",
              "      <td>145</td>\n",
              "      <td>48.7</td>\n",
              "      <td>1.0</td>\n",
              "      <td>2</td>\n",
              "    </tr>\n",
              "    <tr>\n",
              "      <th>11779</th>\n",
              "      <td>Mustang</td>\n",
              "      <td>48999</td>\n",
              "      <td>Automatic</td>\n",
              "      <td>7546</td>\n",
              "      <td>Petrol</td>\n",
              "      <td>145</td>\n",
              "      <td>23.5</td>\n",
              "      <td>5.0</td>\n",
              "      <td>4</td>\n",
              "    </tr>\n",
              "    <tr>\n",
              "      <th>...</th>\n",
              "      <td>...</td>\n",
              "      <td>...</td>\n",
              "      <td>...</td>\n",
              "      <td>...</td>\n",
              "      <td>...</td>\n",
              "      <td>...</td>\n",
              "      <td>...</td>\n",
              "      <td>...</td>\n",
              "      <td>...</td>\n",
              "    </tr>\n",
              "    <tr>\n",
              "      <th>14608</th>\n",
              "      <td>Kuga</td>\n",
              "      <td>4352</td>\n",
              "      <td>Manual</td>\n",
              "      <td>128046</td>\n",
              "      <td>Diesel</td>\n",
              "      <td>240</td>\n",
              "      <td>44.1</td>\n",
              "      <td>2.0</td>\n",
              "      <td>12</td>\n",
              "    </tr>\n",
              "    <tr>\n",
              "      <th>10355</th>\n",
              "      <td>B-MAX</td>\n",
              "      <td>7599</td>\n",
              "      <td>Manual</td>\n",
              "      <td>32505</td>\n",
              "      <td>Petrol</td>\n",
              "      <td>30</td>\n",
              "      <td>57.7</td>\n",
              "      <td>1.0</td>\n",
              "      <td>7</td>\n",
              "    </tr>\n",
              "    <tr>\n",
              "      <th>1446</th>\n",
              "      <td>Fiesta</td>\n",
              "      <td>12610</td>\n",
              "      <td>Manual</td>\n",
              "      <td>13589</td>\n",
              "      <td>Petrol</td>\n",
              "      <td>145</td>\n",
              "      <td>56.5</td>\n",
              "      <td>1.0</td>\n",
              "      <td>2</td>\n",
              "    </tr>\n",
              "    <tr>\n",
              "      <th>1860</th>\n",
              "      <td>Focus</td>\n",
              "      <td>8000</td>\n",
              "      <td>Manual</td>\n",
              "      <td>58774</td>\n",
              "      <td>Diesel</td>\n",
              "      <td>0</td>\n",
              "      <td>74.3</td>\n",
              "      <td>1.5</td>\n",
              "      <td>5</td>\n",
              "    </tr>\n",
              "    <tr>\n",
              "      <th>2308</th>\n",
              "      <td>Focus</td>\n",
              "      <td>26698</td>\n",
              "      <td>Manual</td>\n",
              "      <td>3498</td>\n",
              "      <td>Diesel</td>\n",
              "      <td>145</td>\n",
              "      <td>50.4</td>\n",
              "      <td>2.0</td>\n",
              "      <td>2</td>\n",
              "    </tr>\n",
              "  </tbody>\n",
              "</table>\n",
              "<p>10686 rows × 9 columns</p>\n",
              "</div>"
            ],
            "text/plain": [
              "          model  price transmission  mileage  ...  tax   mpg  engineSize  age\n",
              "14875      Kuga  12000       Manual    21569  ...  125  60.1         2.0    5\n",
              "10148     B-MAX   9995    Semi-Auto    17900  ...  160  44.1         1.6    5\n",
              "10329    Fiesta   9280       Manual    28000  ...  145  62.8         1.0    4\n",
              "5949     Fiesta  16295    Semi-Auto     7698  ...  145  48.7         1.0    2\n",
              "11779   Mustang  48999    Automatic     7546  ...  145  23.5         5.0    4\n",
              "...         ...    ...          ...      ...  ...  ...   ...         ...  ...\n",
              "14608      Kuga   4352       Manual   128046  ...  240  44.1         2.0   12\n",
              "10355     B-MAX   7599       Manual    32505  ...   30  57.7         1.0    7\n",
              "1446     Fiesta  12610       Manual    13589  ...  145  56.5         1.0    2\n",
              "1860      Focus   8000       Manual    58774  ...    0  74.3         1.5    5\n",
              "2308      Focus  26698       Manual     3498  ...  145  50.4         2.0    2\n",
              "\n",
              "[10686 rows x 9 columns]"
            ]
          },
          "metadata": {},
          "execution_count": 100
        }
      ]
    },
    {
      "cell_type": "code",
      "metadata": {
        "colab": {
          "base_uri": "https://localhost:8080/"
        },
        "id": "Xb7z2KsbK0RL",
        "outputId": "1a0705b9-c7fc-4dbc-f4b4-d65cc6abe4bd"
      },
      "source": [
        "#Check the ages to see if there's is outliers\n",
        "train['age'].unique()"
      ],
      "execution_count": 101,
      "outputs": [
        {
          "output_type": "execute_result",
          "data": {
            "text/plain": [
              "array([  5,   4,   2,   3,   7,   8,   6,  10,   1,  11,   9,  14,  13,\n",
              "        16,  12,  15,  19,  25,  17, -39,  21])"
            ]
          },
          "metadata": {},
          "execution_count": 101
        }
      ]
    },
    {
      "cell_type": "code",
      "metadata": {
        "colab": {
          "base_uri": "https://localhost:8080/"
        },
        "id": "Vy3LnxhNJedG",
        "outputId": "dc689a8b-9f50-4bdf-ce3b-d710a029064d"
      },
      "source": [
        "#Outliers in age\n",
        "train[train['age'] == -39].index[0]\n"
      ],
      "execution_count": 104,
      "outputs": [
        {
          "output_type": "execute_result",
          "data": {
            "text/plain": [
              "17572"
            ]
          },
          "metadata": {},
          "execution_count": 104
        }
      ]
    },
    {
      "cell_type": "code",
      "metadata": {
        "id": "DCQjYbM5LZnC"
      },
      "source": [
        "\n",
        "train.drop(index= train[train['age'] == -39].index[0], axis=1, inplace= True)"
      ],
      "execution_count": 105,
      "outputs": []
    },
    {
      "cell_type": "code",
      "metadata": {
        "colab": {
          "base_uri": "https://localhost:8080/"
        },
        "id": "kRvM9_OOAWHt",
        "outputId": "8f1c12ca-df22-422a-f89c-9787090962eb"
      },
      "source": [
        "# Determine columns by data types\n",
        "\n",
        "cat_mask = (train.dtypes == np.object)\n",
        "num_mask = (train.dtypes == np.float64) | (train.dtypes == np.int64)\n",
        "\n",
        "cat_features = train.columns[cat_mask].tolist()\n",
        "num_features = train.columns[num_mask].tolist()\n",
        "\n",
        "\n",
        "print(f'Categorical columns: {cat_features}')\n",
        "print(f'Numerical columns: {num_features}')\n",
        "\n"
      ],
      "execution_count": 106,
      "outputs": [
        {
          "output_type": "stream",
          "name": "stdout",
          "text": [
            "Categorical columns: ['model', 'transmission', 'fuelType']\n",
            "Numerical columns: ['price', 'mileage', 'tax', 'mpg', 'engineSize', 'age']\n"
          ]
        }
      ]
    },
    {
      "cell_type": "markdown",
      "metadata": {
        "id": "zC8TM4g1BYaX"
      },
      "source": [
        "### Numerical Features"
      ]
    },
    {
      "cell_type": "code",
      "metadata": {
        "id": "shOqQSggBVVW"
      },
      "source": [
        "def hist_loop(data:  pd.DataFrame,\n",
        "              rows: int, \n",
        "              cols: int,\n",
        "              figsize: tuple):\n",
        "  \n",
        " \"\"\" Returns multiple histograms as subplots\n",
        "    \"\"\"\n",
        "\n",
        " fig, axes = plt.subplots(rows, cols, figsize=figsize)\n",
        "\n",
        " for i, ax in enumerate(axes.flatten()):\n",
        "    if i < len(data.columns):\n",
        "      data[sorted(data.columns)[i]].plot.hist(bins=30, ax=ax)\n",
        "      ax.set_title(f'{sorted(data.columns)[i]} distribution')\n",
        "      ax.tick_params(axis='x')\n",
        "      ax.tick_params(axis='y')\n",
        "      ax.get_yaxis().get_label().set_visible(False)\n",
        "    \n",
        "    else:\n",
        "      fig.delaxes(ax=ax)\n",
        "\n",
        " fig.tight_layout()\n",
        "\n"
      ],
      "execution_count": 108,
      "outputs": []
    },
    {
      "cell_type": "code",
      "metadata": {
        "colab": {
          "base_uri": "https://localhost:8080/",
          "height": 513
        },
        "id": "MF_d6uoOF410",
        "outputId": "4908dd16-a449-4ebb-dc7d-911643851a19"
      },
      "source": [
        "# Plot all numerical features\n",
        "\n",
        "hist_loop(data=train[num_features], rows=2, cols=3, figsize=(14,7))"
      ],
      "execution_count": 109,
      "outputs": [
        {
          "output_type": "display_data",
          "data": {
            "image/png": "[encoded data removed]",
            "text/plain": [
              "<Figure size 1008x504 with 6 Axes>"
            ]
          },
          "metadata": {
            "needs_background": "light"
          }
        }
      ]
    },
    {
      "cell_type": "markdown",
      "metadata": {
        "id": "NbJ3-OUJMPTH"
      },
      "source": [
        "Now, let's check the skewness of all numerical features"
      ]
    },
    {
      "cell_type": "code",
      "metadata": {
        "id": "N8cl-ZSQMOOV"
      },
      "source": [
        "def skew_df(data: pd.DataFrame, skew_limit: float) -> pd.DataFrame:\n",
        "  # define a limit above which we will tranform\n",
        "\n",
        "  skew_vals= data.skew()\n",
        "\n",
        "  # Showing the skewed columns\n",
        "\n",
        "  skew_cols = (skew_vals\n",
        "               .sort_values(ascending=False)\n",
        "               .to_frame('Skew')\n",
        "               .query('abs(Skew) > {}'.format(skew_limit)))\n",
        "\n",
        "  return skew_cols"
      ],
      "execution_count": 113,
      "outputs": []
    },
    {
      "cell_type": "code",
      "metadata": {
        "colab": {
          "base_uri": "https://localhost:8080/",
          "height": 173
        },
        "id": "q9VU8EStOd0c",
        "outputId": "d9f0206f-7ce0-4d46-ff31-14bb7800a578"
      },
      "source": [
        "\n",
        "\n",
        "skew_cols = skew_df(train[num_features], 0.70)\n",
        "skew_cols"
      ],
      "execution_count": 119,
      "outputs": [
        {
          "output_type": "execute_result",
          "data": {
            "text/html": [
              "<div>\n",
              "<style scoped>\n",
              "    .dataframe tbody tr th:only-of-type {\n",
              "        vertical-align: middle;\n",
              "    }\n",
              "\n",
              "    .dataframe tbody tr th {\n",
              "        vertical-align: top;\n",
              "    }\n",
              "\n",
              "    .dataframe thead th {\n",
              "        text-align: right;\n",
              "    }\n",
              "</style>\n",
              "<table border=\"1\" class=\"dataframe\">\n",
              "  <thead>\n",
              "    <tr style=\"text-align: right;\">\n",
              "      <th></th>\n",
              "      <th>Skew</th>\n",
              "    </tr>\n",
              "  </thead>\n",
              "  <tbody>\n",
              "    <tr>\n",
              "      <th>engineSize</th>\n",
              "      <td>1.990589</td>\n",
              "    </tr>\n",
              "    <tr>\n",
              "      <th>mileage</th>\n",
              "      <td>1.842012</td>\n",
              "    </tr>\n",
              "    <tr>\n",
              "      <th>age</th>\n",
              "      <td>1.839659</td>\n",
              "    </tr>\n",
              "    <tr>\n",
              "      <th>price</th>\n",
              "      <td>1.162327</td>\n",
              "    </tr>\n",
              "  </tbody>\n",
              "</table>\n",
              "</div>"
            ],
            "text/plain": [
              "                Skew\n",
              "engineSize  1.990589\n",
              "mileage     1.842012\n",
              "age         1.839659\n",
              "price       1.162327"
            ]
          },
          "metadata": {},
          "execution_count": 119
        }
      ]
    },
    {
      "cell_type": "markdown",
      "metadata": {
        "id": "i4_3b-cPQOKz"
      },
      "source": [
        "· If the skewness is between -0.5 and 0.5, the data are fairly symmetrical.  \n",
        "· If the skewness is between -1 and — 0.5 or between 0.5 and 1, the data are moderately skewed.   \n",
        "· If the skewness is less than -1 or greater than 1, the data are highly skewed\n",
        "\n",
        "A skewness value of 0 in the output denotes a symmetrical distribution of values in row 1.\n",
        "\n",
        "A negative skewness value in the output indicates an asymmetry in the distribution corresponding the tail is larger towards the left hand side of the distribution.\n",
        "\n",
        "A positive skewness value in the output indicates an asymmetry in the distribution corresponding the tail is larger towards the right hand side of the distribution"
      ]
    }
  ]
}